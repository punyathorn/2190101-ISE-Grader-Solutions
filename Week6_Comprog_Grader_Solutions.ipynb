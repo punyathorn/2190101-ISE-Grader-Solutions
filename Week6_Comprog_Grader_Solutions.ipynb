{
  "nbformat": 4,
  "nbformat_minor": 0,
  "metadata": {
    "colab": {
      "provenance": [],
      "gpuType": "T4",
      "authorship_tag": "ABX9TyNFyu0dDWEVp5hbNPl+I0M5"
    },
    "kernelspec": {
      "name": "python3",
      "display_name": "Python 3"
    },
    "language_info": {
      "name": "python"
    },
    "accelerator": "GPU"
  },
  "cells": [
    {
      "cell_type": "markdown",
      "source": [
        "#06_Func_★_Binary_Adder"
      ],
      "metadata": {
        "id": "qCoxeWSR9ifl"
      }
    },
    {
      "cell_type": "code",
      "execution_count": null,
      "metadata": {
        "colab": {
          "base_uri": "https://localhost:8080/"
        },
        "id": "oEl50RSk9bqe",
        "outputId": "701d95b3-eef9-4ad7-f88b-be0c0bb26b3c"
      },
      "outputs": [
        {
          "output_type": "stream",
          "name": "stdout",
          "text": [
            "000000 000000\n",
            "0\n"
          ]
        }
      ],
      "source": [
        "def bin_add(b1,b2):\n",
        "    b11 = int(b1,2)\n",
        "    b21 = int(b2,2)\n",
        "    result = b11 + b21\n",
        "    result = bin(result)\n",
        "    return str(result)[2:]\n",
        "\n",
        "a = input().split()\n",
        "print(bin_add(a[0],a[1]))"
      ]
    },
    {
      "cell_type": "markdown",
      "source": [
        "\n",
        "#06_Func_★_NextPrime"
      ],
      "metadata": {
        "id": "N2l3Av-0AtJE"
      }
    },
    {
      "cell_type": "code",
      "source": [
        "def is_prime(n):\n",
        "  if n <= 1:\n",
        "    return False\n",
        "  for k in range(2,int(n**0.5)+1):\n",
        "    if n%k== 0:\n",
        "      return False\n",
        "  return True\n",
        "\n",
        "def next_prime(n):\n",
        "  while True:\n",
        "    n += 1\n",
        "    if is_prime(n):\n",
        "      return n\n",
        "\n",
        "def next_twin_prime(n):\n",
        "  a = n\n",
        "  while True:\n",
        "    b = next_prime(a)\n",
        "    c = next_prime(b)\n",
        "    if c - b == 2:\n",
        "      return (b, c)\n",
        "    else:\n",
        "      a = b\n",
        "\n",
        "exec(input().strip())"
      ],
      "metadata": {
        "colab": {
          "base_uri": "https://localhost:8080/"
        },
        "id": "sIZmKLhn-DW1",
        "outputId": "33417634-c4c3-49c1-d6dc-c6b62f66321a"
      },
      "execution_count": null,
      "outputs": [
        {
          "output_type": "stream",
          "name": "stdout",
          "text": [
            "print(next_twin_prime(198))\n",
            "199 211\n",
            "211 223\n",
            "223 227\n",
            "227 229\n",
            "(227, 229)\n"
          ]
        }
      ]
    },
    {
      "cell_type": "markdown",
      "source": [
        "#06_Func_★★_Function_Call"
      ],
      "metadata": {
        "id": "_14PcOkUFHZ9"
      }
    },
    {
      "cell_type": "code",
      "source": [
        "def read_answers():\n",
        "  N = int(input())\n",
        "  answers = []\n",
        "  for k in range(N):\n",
        "    sid, ans = input().split()\n",
        "    answers.append([sid,ans])\n",
        "  return answers\n",
        "\n",
        "def marking(answer, solution):\n",
        "  score = 0\n",
        "  for i in range(len(answer)):\n",
        "    if answer[i] == solution[i]:\n",
        "      score += 1\n",
        "  return score\n",
        "\n",
        "def grading(score):\n",
        "  g = [[80,\"A\"],[70,\"B\"],[60,\"C\"],[50,\"D\"]]\n",
        "  for a,b in g:\n",
        "    if score >= a:\n",
        "      return b\n",
        "  return \"F\"\n",
        "\n",
        "def scoring(answers, solution):\n",
        "  scores = []\n",
        "  for sid, ans in answers:\n",
        "    score = marking(ans, solution) /\\\n",
        "            len(solution) * 100\n",
        "    grade = grading(score)\n",
        "    scores.append([sid, score, grade])\n",
        "  return scores\n",
        "\n",
        "def report(scores):\n",
        "  for sid, score, grade in scores:\n",
        "    print(sid, score, grade)\n",
        "\n",
        "def sort(scores):\n",
        "  x = []\n",
        "  for sid, score, grade in scores:\n",
        "    x.append([score,sid,grade])\n",
        "  x.sort()\n",
        "  x.reverse() #need to add this line for descending order\n",
        "  for i in range(len(x)):\n",
        "    scores[i] = [x[i][1],x[i][0],x[i][2]]\n",
        "\n",
        "sol = input()\n",
        "b = scoring(read_answers(), sol)\n",
        "sort(b)\n",
        "report(b)"
      ],
      "metadata": {
        "colab": {
          "base_uri": "https://localhost:8080/"
        },
        "id": "1zweWaRwBLcl",
        "outputId": "5176ecdd-c11a-45f9-c44d-60bf9b384647"
      },
      "execution_count": null,
      "outputs": [
        {
          "output_type": "stream",
          "name": "stdout",
          "text": [
            "AAAAA\n",
            "5\n",
            "0011 ABBBB\n",
            "2222 AAAAB\n",
            "3333 AAABB\n",
            "4444 AAAAA\n",
            "5555 AAAAB\n",
            "4444 100.0 A\n",
            "5555 80.0 A\n",
            "2222 80.0 A\n",
            "3333 60.0 C\n",
            "0011 20.0 F\n"
          ]
        }
      ]
    },
    {
      "cell_type": "markdown",
      "source": [
        "#06_Func_★★_Distance"
      ],
      "metadata": {
        "id": "kl1wkGfRLJnt"
      }
    },
    {
      "cell_type": "code",
      "source": [
        "import math\n",
        "def distance1(x1,y1,x2,y2):\n",
        "  d = float(math.sqrt(((x2-x1)**2+(y2-y1)**2)))\n",
        "  return d\n",
        "\n",
        "def distance2(p1,p2):\n",
        "  x1, y1 = p1\n",
        "  x2, y2 = p2\n",
        "  d = math.sqrt(((x2-x1)**2+(y2-y1)**2))\n",
        "  return d\n",
        "\n",
        "def distance3(c1,c2):\n",
        "  d = distance1(c1[0],c1[1],c2[0],c2[1])\n",
        "  if d <= c1[2] + c2[2]:\n",
        "    o = True\n",
        "  else:\n",
        "    o = False\n",
        "  return d, o\n",
        "\n",
        "def perimeter(points):\n",
        "  p = 0\n",
        "  for i in range(len(points)):\n",
        "    if i != len(points)-1:\n",
        "      p += distance2(points[i],points[i+1])\n",
        "    else:\n",
        "      p += distance2(points[0],points[i])\n",
        "  return p\n",
        "exec(input().strip())"
      ],
      "metadata": {
        "colab": {
          "base_uri": "https://localhost:8080/"
        },
        "id": "sKIWbgumGOLU",
        "outputId": "3011904b-fbd6-4178-ed99-af7e8811c551"
      },
      "execution_count": null,
      "outputs": [
        {
          "output_type": "stream",
          "name": "stdout",
          "text": [
            "print(perimeter([[0,0],[0,2],[2,2],[2,0]]))\n",
            "[0, 0] [0, 2] 2.0\n",
            "[0, 2] [2, 2] 2.0\n",
            "[2, 2] [2, 0] 2.0\n",
            "[0, 0] [2, 0] 2.0\n",
            "8.0\n"
          ]
        }
      ]
    },
    {
      "cell_type": "markdown",
      "source": [
        "#06_Func_★★_FourFunctions"
      ],
      "metadata": {
        "id": "yR0dyJcrQlLl"
      }
    },
    {
      "cell_type": "code",
      "source": [
        "def make_int_list(x):\n",
        "  out = x.split()\n",
        "  for i in range(len(out)):\n",
        "    out[i] = int(out[i])\n",
        "  return out\n",
        "\n",
        "def is_odd(e):\n",
        "  if e % 2 :\n",
        "    return True\n",
        "  else:\n",
        "    return False\n",
        "\n",
        "def odd_list(alist):\n",
        "  out = []\n",
        "  for num in alist:\n",
        "    if is_odd(num):\n",
        "      out.append(num)\n",
        "  return out\n",
        "\n",
        "def sum_square(alist):\n",
        "  sum = 0\n",
        "  for num in alist:\n",
        "    sum += num**2\n",
        "  return sum\n",
        "exec(input().strip())"
      ],
      "metadata": {
        "colab": {
          "base_uri": "https://localhost:8080/"
        },
        "id": "ZAgsrJkGQmuV",
        "outputId": "9041d49b-9960-42a1-86b3-99a45495ac60"
      },
      "execution_count": null,
      "outputs": [
        {
          "output_type": "stream",
          "name": "stdout",
          "text": [
            "print(sum_square([1,1,2,3]))\n",
            "15\n"
          ]
        }
      ]
    },
    {
      "cell_type": "markdown",
      "source": [
        "#06_Func_★★★_Refactor"
      ],
      "metadata": {
        "id": "LOLu7plNT8qQ"
      }
    },
    {
      "cell_type": "code",
      "source": [
        "mname = [\"Jan\", \"Feb\", \"Mar\", \"Apr\",\n",
        "         \"May\", \"Jun\", \"Jul\", \"Aug\",\n",
        "         \"Sep\", \"Oct\", \"Nov\", \"Dec\"]\n",
        "\n",
        "def read_date():\n",
        "  date1 = input().split()\n",
        "  d1 = int(date1[0])\n",
        "  m1 = mname.index(date1[1][:3]) + 1\n",
        "  y1 = int(date1[2])\n",
        "  return [d1, m1, y1]\n",
        "\n",
        "def zodiac(d,m):\n",
        "  if (d >= 22 and m == 3) or (d <= 21 and m == 4):\n",
        "      z1 = \"Aries\"\n",
        "  elif (d >= 22 and m == 4) or (d <= 21 and m == 5):\n",
        "      z1 = \"Taurus\"\n",
        "  elif (d >= 22 and m == 5) or (d <= 21 and m == 6):\n",
        "      z1 = \"Gemini\"\n",
        "  elif (d >= 22 and m == 6) or (d <= 21 and m == 7):\n",
        "      z1 = \"Cancer\"\n",
        "  elif (d >= 22 and m == 7) or (d <= 21 and m == 8):\n",
        "      z1 = \"Leo\"\n",
        "  elif (d >= 22 and m == 8) or (d <= 21 and m == 9):\n",
        "      z1 = \"Virgo\"\n",
        "  elif (d >= 22 and m == 9) or (d <= 21 and m == 10):\n",
        "      z1 = \"Libra\"\n",
        "  elif (d >= 22 and m == 10) or (d <= 21 and m == 11):\n",
        "      z1 = \"Scorpio\"\n",
        "  elif (d >= 22 and m == 11) or (d <= 21 and m == 12):\n",
        "      z1 = \"Sagittarius\"\n",
        "  elif (d >= 22 and m == 12) or (d <= 20 and m == 1):\n",
        "      z1 = \"Capricorn\"\n",
        "  elif (d >= 21 and m == 1) or (d <= 20 and m == 2):\n",
        "      z1 = \"Aquarius\"\n",
        "  elif (d >= 21 and m == 2) or (d <= 20 and m == 3):\n",
        "      z1 = \"Pisces\"\n",
        "  return z1\n",
        "\n",
        "def days_in_feb(y):\n",
        "  days_in_feb = 28\n",
        "  if y % 400 == 0 or (y % 100 != 0 and y % 4 == 0):\n",
        "      days_in_feb = 29\n",
        "  return days_in_feb\n",
        "\n",
        "def days_in_month(m, y):\n",
        "  days_in_m = 31\n",
        "  if m == 4 or m == 6 or m == 9 or m == 11:\n",
        "    days_in_m = 30\n",
        "  elif m == 2:\n",
        "    days_in_m = days_in_feb(y)\n",
        "  return days_in_m\n",
        "\n",
        "def days_in_between(d1,m1,y1,d2,m2,y2):\n",
        "  days = 0\n",
        "  if m1 < 12: days += 31\n",
        "  if m1 < 11: days += 30\n",
        "  if m1 < 10: days += 31\n",
        "  if m1 < 9: days += 30\n",
        "  if m1 < 8: days += 31\n",
        "  if m1 < 7: days += 31\n",
        "  if m1 < 6: days += 30\n",
        "  if m1 < 5: days += 31\n",
        "  if m1 < 4: days += 30\n",
        "  if m1 < 3: days += 31\n",
        "  if m1 < 2: days += days_in_feb(y1)\n",
        "\n",
        "  if m2 > 1: days += 31\n",
        "  if m2 > 2: days += days_in_feb(y2)\n",
        "  if m2 > 3: days += 31\n",
        "  if m2 > 4: days += 30\n",
        "  if m2 > 5: days += 31\n",
        "  if m2 > 6: days += 30\n",
        "  if m2 > 7: days += 31\n",
        "  if m2 > 8: days += 31\n",
        "  if m2 > 9: days += 30\n",
        "  if m2 > 10: days += 31\n",
        "  if m2 > 11: days += 30\n",
        "  days += (days_in_month(m1, y1)-d1+1) + int((y2-y1-1)*365.25) + (d2-1)\n",
        "  return days\n",
        "\n",
        "def main():\n",
        "  d1,m1,y1 = read_date()\n",
        "  d2,m2,y2 = read_date()\n",
        "  print(zodiac(d1,m1)+\" \"+zodiac(d2,m2))\n",
        "  print(days_in_between(d1,m1,y1,d2,m2,y2))\n",
        "\n",
        "exec(input().strip())"
      ],
      "metadata": {
        "colab": {
          "base_uri": "https://localhost:8080/"
        },
        "id": "AZgRW8FgUNcc",
        "outputId": "9f575633-f5ac-419f-b1cd-cf397b7916ce"
      },
      "execution_count": 20,
      "outputs": [
        {
          "output_type": "stream",
          "name": "stdout",
          "text": [
            "print(days_in_between(1,1,2016,1,1,2017))\n",
            "366\n"
          ]
        }
      ]
    },
    {
      "cell_type": "code",
      "source": [],
      "metadata": {
        "id": "tIbNQRNdUer9"
      },
      "execution_count": null,
      "outputs": []
    }
  ]
}