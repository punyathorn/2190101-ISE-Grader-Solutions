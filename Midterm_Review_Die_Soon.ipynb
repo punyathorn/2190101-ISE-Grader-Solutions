{
  "nbformat": 4,
  "nbformat_minor": 0,
  "metadata": {
    "colab": {
      "provenance": [],
      "gpuType": "T4",
      "authorship_tag": "ABX9TyNFS899YrguxfnOz3BEpS7k"
    },
    "kernelspec": {
      "name": "python3",
      "display_name": "Python 3"
    },
    "language_info": {
      "name": "python"
    },
    "accelerator": "GPU"
  },
  "cells": [
    {
      "cell_type": "markdown",
      "source": [
        "#2023_2_Midterm_Expression"
      ],
      "metadata": {
        "id": "gj-r1Fs_9pd1"
      }
    },
    {
      "cell_type": "code",
      "source": [
        "a = float(input())\n",
        "b = float(input())\n",
        "c1 = float(input())\n",
        "c2 = float(input())\n",
        "c3 = float(input())\n",
        "w = float(abs(b-a)/10)\n",
        "x_ = []\n",
        "fxw = 0\n",
        "for i in range(10):\n",
        "  x_.append(float(a+i*w))\n",
        "for x in x_:\n",
        "  out = float(c1*(x**2) + c2*x + c3)*w\n",
        "  fxw += out\n",
        "print(round(fxw,2))"
      ],
      "metadata": {
        "colab": {
          "base_uri": "https://localhost:8080/"
        },
        "id": "lJLUqvm89pKk",
        "outputId": "1e8aef49-a9a5-4aa1-b333-fe842c46484b"
      },
      "execution_count": null,
      "outputs": [
        {
          "output_type": "stream",
          "name": "stdout",
          "text": [
            "1\n",
            "8\n",
            "1\n",
            "2\n",
            "4\n",
            "234.95\n"
          ]
        }
      ]
    },
    {
      "cell_type": "markdown",
      "source": [
        "#2023_2_Midterm_Flowchart"
      ],
      "metadata": {
        "id": "V9uaIbisChTE"
      }
    },
    {
      "cell_type": "code",
      "source": [
        "n,a,b = [int(e) for e in input().split()]\n",
        "if a > b:\n",
        "  d, e = -1, -1\n",
        "  while n < a:\n",
        "    c = int(input())\n",
        "    if c > d:\n",
        "      d,e = c,d\n",
        "    elif c > e:\n",
        "      e = c\n",
        "    n = n + b\n",
        "else:\n",
        "  c = int(input())\n",
        "  d = int(input())\n",
        "  e = int(input())\n",
        "  f = int(input())\n",
        "  if e < f:\n",
        "    e,f = f,e\n",
        "  if d < e:\n",
        "    d,e = e,d\n",
        "  if c < d:\n",
        "    c,d = d,c\n",
        "  if d > e:\n",
        "    if not d > f:\n",
        "      d,f = f,d\n",
        "  else:\n",
        "    if e > f:\n",
        "      d,e = e,d\n",
        "    else:\n",
        "      d,f = f,d\n",
        "\n",
        "print(d,e)"
      ],
      "metadata": {
        "colab": {
          "base_uri": "https://localhost:8080/"
        },
        "id": "2vGN97zcCiOU",
        "outputId": "4653f1b5-ddba-48b1-9161-85519932f22c"
      },
      "execution_count": null,
      "outputs": [
        {
          "output_type": "stream",
          "name": "stdout",
          "text": [
            "1 2 1\n",
            "4\n",
            "3\n",
            "2\n",
            "1\n",
            "4 -1\n"
          ]
        }
      ]
    },
    {
      "cell_type": "markdown",
      "source": [
        "#2023_​2_​Midterm_​Function"
      ],
      "metadata": {
        "id": "W5DXjn_7GgX1"
      }
    },
    {
      "cell_type": "code",
      "source": [
        "def contain_only_alphabets(s):\n",
        "  for l in s:\n",
        "    print\n",
        "    if not l.lower() in 'abcdefghijklmnopqrstuvwxyz ':\n",
        "      return False\n",
        "  return True\n",
        "\n",
        "def contain_only_digits(s):\n",
        "  s = str(s)\n",
        "  for l in s:\n",
        "    if not (l in \"0123456789.,\"):\n",
        "      return False\n",
        "  return True\n",
        "\n",
        "def sort_numbers_inplace(numbers):\n",
        "  num = []\n",
        "  st = []\n",
        "  for n in numbers:\n",
        "    if isinstance(n, int) or isinstance(n, float):\n",
        "      num.append(n)\n",
        "    elif isinstance(n, str):\n",
        "      st.append(n)\n",
        "  num.sort()\n",
        "  st.sort()\n",
        "  out = num\n",
        "  out += st\n",
        "  numbers.clear()\n",
        "  for i in out:\n",
        "    numbers.append(i)\n",
        "\n",
        "\n",
        "def categorize(L):\n",
        "  st = []\n",
        "  num = []\n",
        "  no = []\n",
        "  for t in L:\n",
        "    t_s = str(t)\n",
        "    if contain_only_alphabets(t_s):\n",
        "      st.append(t)\n",
        "    elif contain_only_digits(t_s):\n",
        "      num.append(t)\n",
        "    else:\n",
        "      no.append(t)\n",
        "  sort_numbers_inplace(num)\n",
        "  return (st,num,no)\n",
        "\n",
        "exec(input().strip())"
      ],
      "metadata": {
        "colab": {
          "base_uri": "https://localhost:8080/"
        },
        "id": "8dzvC1c_EU0F",
        "outputId": "b833bcd3-205d-4a31-92a7-89422172e8f1"
      },
      "execution_count": null,
      "outputs": [
        {
          "output_type": "stream",
          "name": "stdout",
          "text": [
            "print(categorize(['Hello World', 1, '12', '@', '#', 0, '9', 'a', 'b']))\n",
            "(['a', 'b'], [0, 1, '12', '9'], ['Hello World', '@', '#'])\n"
          ]
        }
      ]
    },
    {
      "cell_type": "markdown",
      "source": [
        "#2023_​2_​Midterm_​Loop"
      ],
      "metadata": {
        "id": "FWSkantFR_BL"
      }
    },
    {
      "cell_type": "code",
      "source": [
        "a = input()\n",
        "target = input()\n",
        "new_a = []\n",
        "for i in range(len(a)):\n",
        "  if i <= len(a)-10:\n",
        "    if a[i]+a[i+1] == target and a[i+8]+a[i+9] == \"21\":\n",
        "      new_a.append(a[i:i+10])\n",
        "for i in new_a:\n",
        "  for l in i:\n",
        "    if not l.lower() in '0123456789':\n",
        "      if i in new_a:\n",
        "        new_a.remove(i)\n",
        "if new_a == []:\n",
        "  print('Not found')\n",
        "for i in new_a:\n",
        "  print(i)"
      ],
      "metadata": {
        "colab": {
          "base_uri": "https://localhost:8080/"
        },
        "id": "a1V-0AeuO0RD",
        "outputId": "dd3f95d4-f343-4041-bd6c-92e5f0e6f18e"
      },
      "execution_count": null,
      "outputs": [
        {
          "output_type": "stream",
          "name": "stdout",
          "text": [
            "6537891021653891032165abcde216513138021\n",
            "65\n",
            "['6537891021', '6538910321', '6513138021']\n",
            "6537891021\n",
            "6538910321\n",
            "6513138021\n"
          ]
        }
      ]
    },
    {
      "cell_type": "markdown",
      "source": [
        "#2023_​2_​Midterm_​StrList"
      ],
      "metadata": {
        "id": "zLaVLF4YZIt6"
      }
    },
    {
      "cell_type": "code",
      "source": [
        "a,b = [int(e) for e in input().split()]\n",
        "menu = []\n",
        "price = []\n",
        "total_price = 0\n",
        "for i in range(a):\n",
        "  y = input().split()\n",
        "  price.append(float(y[-1]))\n",
        "  menu.append(y[0])\n",
        "for i in range(b):\n",
        "  y = input().split()\n",
        "  m = y[0]\n",
        "  am = int(y[-1])\n",
        "  for me in menu:\n",
        "    if m == me:\n",
        "      total_price += am*float(price[menu.index(me)])\n",
        "\n",
        "print(round(total_price,2))"
      ],
      "metadata": {
        "colab": {
          "base_uri": "https://localhost:8080/"
        },
        "id": "cKCeYGG-VAyi",
        "outputId": "0ca6e964-68d1-4c10-850f-ea292a6a7125"
      },
      "execution_count": null,
      "outputs": [
        {
          "output_type": "stream",
          "name": "stdout",
          "text": [
            "3 2\n",
            "Pad Thai 30.00\n",
            "Green Curry Chicken 45.50\n",
            "Mango Sticky Rice 50.00\n",
            "Pad Thai 2\n",
            "Green Curry Chicken 1\n",
            "105.5\n"
          ]
        }
      ]
    },
    {
      "cell_type": "code",
      "source": [
        "#Good luck Future me"
      ],
      "metadata": {
        "id": "qGA3WhdVZuAB"
      },
      "execution_count": null,
      "outputs": []
    }
  ]
}