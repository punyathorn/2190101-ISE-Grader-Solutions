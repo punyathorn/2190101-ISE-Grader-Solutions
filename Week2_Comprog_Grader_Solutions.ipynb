{
  "cells": [
    {
      "cell_type": "markdown",
      "metadata": {
        "id": "nGdzWDTWFFHx"
      },
      "source": [
        "#Week 2 Grader"
      ]
    },
    {
      "cell_type": "markdown",
      "metadata": {
        "id": "CvOpQfgYFwHB"
      },
      "source": [
        "#02-StrLst_​★_​CitizenID"
      ]
    },
    {
      "cell_type": "code",
      "execution_count": null,
      "metadata": {
        "colab": {
          "base_uri": "https://localhost:8080/"
        },
        "id": "pHwZVKfSDHJS",
        "outputId": "d522109a-bb84-496f-ccb4-c8cbdc273eaa"
      },
      "outputs": [
        {
          "name": "stdout",
          "output_type": "stream",
          "text": [
            "110070234512\n",
            "1 1007 02345 12 9\n"
          ]
        }
      ],
      "source": [
        "id = input()\n",
        "n12= (11 - (13*int(id[0]) + 12*int(id[1]) + 11*int(id[2]) + 10*int(id[3]) + 9*int(id[4]) + 8*int(id[5]) + 7*int(id[6])+ 6*int(id[7]) + 5*int(id[8]) + 4*int(id[9]) + 3*int(id[10]) + 2*int(id[11])) % 11) % 10\n",
        "print(id[0], id[1:5], id[5:10], id[10:13], n12)"
      ]
    },
    {
      "cell_type": "markdown",
      "metadata": {
        "id": "a1xx9Lc-FtV5"
      },
      "source": [
        "#02-StrLst_​★_​Arabic_​Numerals"
      ]
    },
    {
      "cell_type": "code",
      "execution_count": null,
      "metadata": {
        "colab": {
          "base_uri": "https://localhost:8080/"
        },
        "id": "yUgMTh28FHcg",
        "outputId": "95f5d0c5-547c-4345-82c3-b5e905ea610d"
      },
      "outputs": [
        {
          "name": "stdout",
          "output_type": "stream",
          "text": [
            "1\n",
            "1 --> one\n"
          ]
        }
      ],
      "source": [
        "n = int(input())\n",
        "text = [\"zero\", \"one\", \"two\", \"three\", \"four\", \"five\", \"six\", \"seven\", \"eight\", \"nine\"]\n",
        "print(n, \"-->\", text[n])"
      ]
    },
    {
      "cell_type": "markdown",
      "metadata": {
        "id": "unuRmH9VHeYK"
      },
      "source": [
        "#02-StrLst_★_USDate"
      ]
    },
    {
      "cell_type": "code",
      "execution_count": null,
      "metadata": {
        "colab": {
          "base_uri": "https://localhost:8080/"
        },
        "id": "q8YyRhH8Hfap",
        "outputId": "39f087d5-2997-487c-f62d-55ff5af664e2"
      },
      "outputs": [
        {
          "name": "stdout",
          "output_type": "stream",
          "text": [
            "31/12/2020\n",
            "December 31, 2020\n"
          ]
        }
      ],
      "source": [
        "d,m,y = map(int,input().split(\"/\"))\n",
        "#or d,m,y = input().split(\"/\"); m = int(m)\n",
        "m_name = [\"January\", \"February\", \"March\", \"April\", \"May\", \"June\", \"July\", \"August\", \"September\", \"October\", \"November\", \"December\"]\n",
        "print(f\"{m_name[m-1]} {d}, {y}\")"
      ]
    },
    {
      "cell_type": "markdown",
      "metadata": {
        "id": "LDzz2x4yIkXq"
      },
      "source": [
        "#02-StrLst_★_NDigits"
      ]
    },
    {
      "cell_type": "code",
      "execution_count": null,
      "metadata": {
        "colab": {
          "base_uri": "https://localhost:8080/"
        },
        "id": "DCXb-dJMIlbJ",
        "outputId": "febd1f83-33e9-4da7-8229-3216a65eb161"
      },
      "outputs": [
        {
          "name": "stdout",
          "output_type": "stream",
          "text": [
            "123\n",
            "3\n",
            "123\n"
          ]
        }
      ],
      "source": [
        "m = input()\n",
        "n = input()\n",
        "print(\"0\"*(int(n)-len(m))+m)"
      ]
    },
    {
      "cell_type": "markdown",
      "metadata": {
        "id": "zrxyEGPKKFki"
      },
      "source": [
        "#02-StrLst_★_WeeklySales"
      ]
    },
    {
      "cell_type": "code",
      "execution_count": null,
      "metadata": {
        "colab": {
          "base_uri": "https://localhost:8080/"
        },
        "id": "E23wj3EJKGr6",
        "outputId": "fe795039-7724-48ce-e595-f365c4e4178b"
      },
      "outputs": [
        {
          "name": "stdout",
          "output_type": "stream",
          "text": [
            "0 0 0 100 0 0 0\n",
            "100\n"
          ]
        }
      ],
      "source": [
        "a,b,c,d,e,f,g = map(int,input().split())\n",
        "print(a+b+c+d+e+f+g)"
      ]
    },
    {
      "cell_type": "markdown",
      "metadata": {
        "id": "9B4ngG8WK0Li"
      },
      "source": [
        "#02-StrLst_★★_AddVector"
      ]
    },
    {
      "cell_type": "code",
      "execution_count": null,
      "metadata": {
        "colab": {
          "base_uri": "https://localhost:8080/"
        },
        "id": "H857_BlaKRoL",
        "outputId": "85318ab1-3f05-41b2-d6a1-b38d255ebcc6"
      },
      "outputs": [
        {
          "name": "stdout",
          "output_type": "stream",
          "text": [
            "[0, 10, 0]\n",
            "[10, 0, 10]\n",
            "[0.0, 10.0, 0.0] + [10.0, 0.0, 10.0] = [10.0, 10.0, 10.0]\n"
          ]
        }
      ],
      "source": [
        "u1, u2, u3 = map(float, input()[1:-1].split(\",\"))\n",
        "v1, v2, v3 =map(float, input()[1:-1].split(\",\"))\n",
        "print(f\"[{u1}, {u2}, {u3}] + [{v1}, {v2}, {v3}] = [{u1+v1}, {u2+v2}, {u3+v3}]\")"
      ]
    },
    {
      "cell_type": "markdown",
      "metadata": {
        "id": "qIzg-IBuMbSc"
      },
      "source": [
        "#02-StrLst_★★★_Decryption"
      ]
    },
    {
      "cell_type": "code",
      "execution_count": null,
      "metadata": {
        "colab": {
          "base_uri": "https://localhost:8080/"
        },
        "id": "FHwcPiS6McSy",
        "outputId": "ef400027-4652-4eb4-a129-19f8f296d249"
      },
      "outputs": [
        {
          "name": "stdout",
          "output_type": "stream",
          "text": [
            "99999999999999999999999999999999\n",
            "99999 99999 209998 999 27 7\n",
            "999H\n"
          ]
        }
      ],
      "source": [
        "code = input()\n",
        "a = code[3::7]\n",
        "b = code[7::5]\n",
        "c = int(a)+int(b)+10000\n",
        "d = str(c)[-4:-1:1]\n",
        "e = int(d[0]) + int(d[1])+ int(d[2])\n",
        "f = int(str(e)[-1])\n",
        "alpha = [\"A\", \"B\", \"C\", \"D\", \"E\", \"F\", \"G\", \"H\", \"I\", \"J\", \"K\", \"L\", \"M\", \"N\", \"O\", \"P\", \"Q\", \"R\", \"S\", \"T\", \"U\", \"V\", \"W\", \"X\", \"Y\", \"Z\"]\n",
        "print(str(d)+alpha[f])"
      ]
    },
    {
      "cell_type": "markdown",
      "metadata": {
        "id": "4LHvrUsfViRO"
      },
      "source": [
        "#02-StrLst_★★★_Decimal2Fraction"
      ]
    },
    {
      "cell_type": "code",
      "execution_count": null,
      "metadata": {
        "colab": {
          "base_uri": "https://localhost:8080/"
        },
        "id": "ENmFDbjFTGyd",
        "outputId": "093d5e20-3aa2-4594-edcd-f86c34176ae8"
      },
      "outputs": [
        {
          "output_type": "stream",
          "name": "stdout",
          "text": [
            "123,456,789\n",
            "41111111 / 333000\n"
          ]
        }
      ],
      "source": [
        "import math\n",
        "x = input().split(\",\")\n",
        "n = int(x[0] + x[1] + x[2]) - int(x[0] + x[1])\n",
        "d = 10**(len(x[1])+len(x[2]))-10**len(x[1])\n",
        "print(str(int((n)//math.gcd(n,d)))+\" / \"+ str(int(d//math.gcd(n,d))))"
      ]
    },
    {
      "cell_type": "code",
      "execution_count": null,
      "metadata": {
        "id": "BQSdgd83WT-e"
      },
      "outputs": [],
      "source": []
    }
  ],
  "metadata": {
    "accelerator": "GPU",
    "colab": {
      "gpuType": "T4",
      "provenance": [],
      "authorship_tag": "ABX9TyNNUGH1+cEZt9XlgSzCxAse"
    },
    "kernelspec": {
      "display_name": "Python 3",
      "name": "python3"
    },
    "language_info": {
      "name": "python"
    }
  },
  "nbformat": 4,
  "nbformat_minor": 0
}
