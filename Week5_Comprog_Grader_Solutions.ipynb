{
  "nbformat": 4,
  "nbformat_minor": 0,
  "metadata": {
    "colab": {
      "provenance": [],
      "gpuType": "V28",
      "authorship_tag": "ABX9TyMa69JwHk9yiMDDfX34M4qg"
    },
    "kernelspec": {
      "name": "python3",
      "display_name": "Python 3"
    },
    "language_info": {
      "name": "python"
    },
    "accelerator": "TPU"
  },
  "cells": [
    {
      "cell_type": "markdown",
      "source": [
        "#05_List_★_MissingDigits"
      ],
      "metadata": {
        "id": "l19Ivw9D8BHk"
      }
    },
    {
      "cell_type": "code",
      "execution_count": null,
      "metadata": {
        "colab": {
          "base_uri": "https://localhost:8080/"
        },
        "id": "OYUkUQoE7Qdu",
        "outputId": "169b9edc-4f13-40e0-8527-5807f9f25a9d"
      },
      "outputs": [
        {
          "output_type": "stream",
          "name": "stdout",
          "text": [
            "av 1 2 3 5 7 9 dfg\n",
            "0,4,6,8\n"
          ]
        }
      ],
      "source": [
        "num = [0,1,2,3,4,5,6,7,8,9]\n",
        "num_num = [0,0,0,0,0,0,0,0,0,0]\n",
        "not_found = ''\n",
        "e = 0\n",
        "a = input()\n",
        "for i in a:\n",
        "  if '0' <= i <= '9':\n",
        "    num[int(i)] = []\n",
        "for i in num:\n",
        "  if '0' <= str(i) <= '9':\n",
        "    not_found += str(i) + \",\"\n",
        "    e += 1\n",
        "if e == 0:\n",
        "  not_found = 'None'\n",
        "print(not_found.strip(\",\"))"
      ]
    },
    {
      "cell_type": "markdown",
      "source": [
        "#05_List_★_Nicknames"
      ],
      "metadata": {
        "id": "GtfuQdpz_6yC"
      }
    },
    {
      "cell_type": "code",
      "source": [
        "full = ['Robert','William','James','John','Margaret','Edward','Sarah','Andrew','Anthony','Deborah' ]\n",
        "nick = ['Dick', 'Bill', 'Jim', 'Jack', 'Peggy', 'Ed', 'Sally', 'Andy', 'Tony', 'Debbie']\n",
        "output = ''\n",
        "num = int(input())\n",
        "for i in range(num):\n",
        "  a = input()\n",
        "  b = 0\n",
        "  for j in range(len(full)):\n",
        "    if a == full[j]:\n",
        "      if i == num-1:\n",
        "        output += nick[j]\n",
        "      else:\n",
        "        output += nick[j] + ','\n",
        "    elif a == nick[j]:\n",
        "      if i == num-1:\n",
        "        output += full[j]\n",
        "      else:\n",
        "        output += full[j] + ','\n",
        "  for j in range(len(full)):\n",
        "    if a != full[j] and a!= nick[j]:\n",
        "      b += 1\n",
        "\n",
        "  if b == len(full):\n",
        "    output += 'Not found'\n",
        "    if i != num-1:\n",
        "      output += ','\n",
        "for k in output.split(','):\n",
        "  print(k)"
      ],
      "metadata": {
        "colab": {
          "base_uri": "https://localhost:8080/"
        },
        "id": "t4T2uZRw8RtN",
        "outputId": "0bc009b7-bc25-48dd-f6c7-b52d705b54ef"
      },
      "execution_count": null,
      "outputs": [
        {
          "output_type": "stream",
          "name": "stdout",
          "text": [
            "4\n",
            "John\n",
            "Jim\n",
            "Don\n",
            "Debbie\n",
            "Jack\n",
            "James\n",
            "Not found\n",
            "Deborah\n"
          ]
        }
      ]
    },
    {
      "cell_type": "markdown",
      "source": [
        "#05_List_★_Back_n_Front"
      ],
      "metadata": {
        "id": "jgjjFgT7Egno"
      }
    },
    {
      "cell_type": "code",
      "source": [
        "s1 = ''\n",
        "s2 = ''\n",
        "s3 = ''\n",
        "a1 = int(input())\n",
        "cleaned_output = []\n",
        "output = []\n",
        "for i in range(a1):\n",
        "  a11 = int(input())\n",
        "  s1 += str(a11) + ','\n",
        "a2 = input()\n",
        "while True:\n",
        "  a3 = int(input())\n",
        "  if a3 == -1:\n",
        "    break\n",
        "  s3 += str(a3) + ','\n",
        "#อย่าหาทำตาม ใช้ append แต่แรกก้จบแล้ว\n",
        "s2 = ','.join(a2.split())\n",
        "out = s1 + s2 + ',' + s3\n",
        "out = out.strip(',').split(',')\n",
        "\n",
        "for i in range(len(out)):\n",
        "  if out[i] != '':\n",
        "    cleaned_output.append(out[i])\n",
        "\n",
        "for i in range(len(cleaned_output)-1,0,-1):\n",
        "  if (i % 2):\n",
        "    output.append(int(cleaned_output[i]))\n",
        "for i in range(len(cleaned_output)):\n",
        "  if (not i % 2):\n",
        "    output.append(int(cleaned_output[i]))\n",
        "print(output)"
      ],
      "metadata": {
        "colab": {
          "base_uri": "https://localhost:8080/"
        },
        "id": "bUQm5dBUAxNr",
        "outputId": "f56ef5c6-71bf-4948-cdea-5a0a7ef0e5a0"
      },
      "execution_count": null,
      "outputs": [
        {
          "output_type": "stream",
          "name": "stdout",
          "text": [
            "5\n",
            "50\n",
            "40\n",
            "30\n",
            "20\n",
            "10\n",
            "\n",
            "100\n",
            "200\n",
            "300\n",
            "400\n",
            "500\n",
            "-1\n",
            "[500, 300, 100, 20, 40, 50, 30, 10, 200, 400]\n"
          ]
        }
      ]
    },
    {
      "cell_type": "markdown",
      "source": [
        "#05_List_★_Peaks"
      ],
      "metadata": {
        "id": "E8ii0l94MTqM"
      }
    },
    {
      "cell_type": "code",
      "source": [
        "y = input()\n",
        "z = y.split()\n",
        "num = 0\n",
        "for i in range(len(z)):\n",
        "  z[i] = int(z[i])\n",
        "for i in range(len(z)):\n",
        "  if (i != 0) and (i!= len(z)-1):\n",
        "    if (z[i] > z[i-1]) and (z[i] > z[i+1]):\n",
        "      num += 1\n",
        "print(num)"
      ],
      "metadata": {
        "colab": {
          "base_uri": "https://localhost:8080/"
        },
        "id": "nqK08dnYFyKJ",
        "outputId": "73b69e84-12b5-410e-83d1-9af1839eebeb"
      },
      "execution_count": null,
      "outputs": [
        {
          "output_type": "stream",
          "name": "stdout",
          "text": [
            "1 9 1 9 1 9 1 9 1 9 1\n",
            "5\n"
          ]
        }
      ]
    },
    {
      "cell_type": "markdown",
      "source": [
        "#05_List_★★_UniqueCount"
      ],
      "metadata": {
        "id": "QtCerPI0Nwjc"
      }
    },
    {
      "cell_type": "code",
      "source": [
        "y = input()\n",
        "z = y.split()\n",
        "z.sort()\n",
        "count = 0\n",
        "output = []\n",
        "for i in range(len(z)):\n",
        "  if i == 0:\n",
        "    count += 1\n",
        "    output.append(int(z[i]))\n",
        "  elif z[i] != z[i-1]:\n",
        "    count += 1\n",
        "    output.append(int(z[i]))\n",
        "print(count)\n",
        "output.sort()\n",
        "print(output[:10])"
      ],
      "metadata": {
        "colab": {
          "base_uri": "https://localhost:8080/"
        },
        "id": "Ru-GXpfAJ4UH",
        "outputId": "9f0407c8-d3f3-4b9d-e76d-22fcac5a78c9"
      },
      "execution_count": null,
      "outputs": [
        {
          "output_type": "stream",
          "name": "stdout",
          "text": [
            "1 9 1 9 1 9 1 9 1 9 1 \n",
            "2\n",
            "[1, 9]\n"
          ]
        }
      ]
    },
    {
      "cell_type": "markdown",
      "source": [
        "#05_​List_​★_​Collatz"
      ],
      "metadata": {
        "id": "eM-FNi00RGua"
      }
    },
    {
      "cell_type": "code",
      "source": [
        "n = int(input())\n",
        "steps = []\n",
        "steps.append(str(n))\n",
        "while n > 1:\n",
        "  if (n % 2) == 0:\n",
        "    n = n / 2 #remove decimal\n",
        "  else:\n",
        "    n = 3*n + 1\n",
        "  steps.append(str(int(n)))\n",
        "print('->'.join(steps[-15:]))"
      ],
      "metadata": {
        "colab": {
          "base_uri": "https://localhost:8080/"
        },
        "id": "648EzcYTMVNM",
        "outputId": "a7f43ffe-2ff1-49de-a974-ff7de11da728"
      },
      "execution_count": null,
      "outputs": [
        {
          "output_type": "stream",
          "name": "stdout",
          "text": [
            "10\n",
            "['10', '5', '16', '8', '4', '2', '1']\n",
            "10->5->16->8->4->2->1\n"
          ]
        }
      ]
    },
    {
      "cell_type": "markdown",
      "source": [
        "#05_List_★★_Upgrade"
      ],
      "metadata": {
        "id": "8UCu-uMGWhKu"
      }
    },
    {
      "cell_type": "code",
      "source": [
        "ids = []\n",
        "grades = []\n",
        "uids = []\n",
        "scale = ['A','B+','B','C+','C','D+','D','F']\n",
        "while True:\n",
        "  a = input().split()\n",
        "  if a[0] == 'q':\n",
        "    break\n",
        "  ids.append(a[0])\n",
        "  grades.append(a[1])\n",
        "b = input().split()\n",
        "uids = b\n",
        "for i in uids:\n",
        "  for id in ids:\n",
        "    if i == id:\n",
        "      if scale.index(grades[ids.index(i)]) != 0:\n",
        "        grades[ids.index(i)] = scale[scale.index(grades[ids.index(i)])-1]\n",
        "\n",
        "for i in ids:\n",
        "  print(i,grades[ids.index(i)])"
      ],
      "metadata": {
        "colab": {
          "base_uri": "https://localhost:8080/"
        },
        "id": "vYQvwTq6Pqul",
        "outputId": "2625290a-604e-4853-83ac-8df9b6040c68"
      },
      "execution_count": null,
      "outputs": [
        {
          "output_type": "stream",
          "name": "stdout",
          "text": [
            "44444 A\n",
            "22222 F\n",
            "11111 B+\n",
            "66666 C\n",
            "55555 B\n",
            "33333 D+\n",
            "q\n",
            "33333 22222 55555\n",
            "D+ 5\n",
            "F 8\n",
            "B 2\n",
            "44444 A\n",
            "22222 F+\n",
            "11111 B+\n",
            "66666 C\n",
            "55555 B+\n",
            "33333 C\n"
          ]
        }
      ]
    },
    {
      "cell_type": "markdown",
      "source": [
        "#05_List_★★_Upgrade_2"
      ],
      "metadata": {
        "id": "XCUi-0WFd8o7"
      }
    },
    {
      "cell_type": "code",
      "source": [
        "ids = []\n",
        "sorted_ids = []\n",
        "grades = []\n",
        "grades_sorted = []\n",
        "uids = []\n",
        "scale = ['A','B+','B','C+','C','D+','D','F']\n",
        "while True:\n",
        "  a = input().split()\n",
        "  if a[0] == 'q':\n",
        "    break\n",
        "  ids.append(a[0])\n",
        "  sorted_ids.append(a[0])\n",
        "  grades.append(a[1])\n",
        "b = input().split()\n",
        "uids = b\n",
        "for i in uids:\n",
        "  for id in ids:\n",
        "    if i == id:\n",
        "      if scale.index(grades[ids.index(i)]) != 0:\n",
        "        grades[ids.index(i)] = scale[scale.index(grades[ids.index(i)])-1]\n",
        "sorted_ids.sort()\n",
        "for i in sorted_ids:\n",
        "  grades_sorted.append(grades[ids.index(i)])\n",
        "for i in sorted_ids:\n",
        "  print(i,grades[ids.index(i)])"
      ],
      "metadata": {
        "id": "FtKTpKesP9J0",
        "colab": {
          "base_uri": "https://localhost:8080/"
        },
        "outputId": "75e1f9de-5dc4-470c-bd15-ca895297e6e5"
      },
      "execution_count": null,
      "outputs": [
        {
          "output_type": "stream",
          "name": "stdout",
          "text": [
            "44444 A\n",
            "22222 F\n",
            "11111 B+\n",
            " 66666 C\n",
            "55555 B\n",
            "33333 D+\n",
            "q\n",
            "33333 22222 55555\n",
            "11111 B+\n",
            "22222 D\n",
            "33333 C\n",
            "44444 A\n",
            "55555 B+\n",
            "66666 C\n"
          ]
        }
      ]
    },
    {
      "cell_type": "markdown",
      "source": [
        "#05_List_★★_Third_Closest"
      ],
      "metadata": {
        "id": "G1jZeS2eOfY0"
      }
    },
    {
      "cell_type": "code",
      "source": [
        "import math\n",
        "n = int(input())\n",
        "points = []\n",
        "for i in range(n):\n",
        "  a,b = input().split()\n",
        "  a = float(a)\n",
        "  b = float(b)\n",
        "  d = math.sqrt(a**2 + b**2)\n",
        "  points.append([d,i+1,a,b])\n",
        "points.sort()\n",
        "print(f'#{points[2][1]}: '+str((points[2][2],points[2][3])))"
      ],
      "metadata": {
        "id": "ZegbqymdZBCi",
        "colab": {
          "base_uri": "https://localhost:8080/"
        },
        "outputId": "7d9ed178-e389-4c50-dc8f-978ff9e840b8"
      },
      "execution_count": 5,
      "outputs": [
        {
          "output_type": "stream",
          "name": "stdout",
          "text": [
            "4\n",
            "0.1 0.1\n",
            "0.2 0.2\n",
            "10.0 10.0\n",
            "0.3 0.3\n",
            "#4: (0.3, 0.3)\n"
          ]
        }
      ]
    },
    {
      "cell_type": "markdown",
      "source": [
        "#05_List_★★★_Cut_n_Shuffle"
      ],
      "metadata": {
        "id": "cnRqMkGyW4Bb"
      }
    },
    {
      "cell_type": "code",
      "source": [
        "a = input().split()\n",
        "out = a\n",
        "b = input()\n",
        "for l in b:\n",
        "  if l == \"C\":\n",
        "    out2 = out.copy()\n",
        "    out[:int(len(a)/2)] = out2[int(len(a)/2):]\n",
        "    out[int(len(a)/2)::] = out2[:int(len(a)/2):]\n",
        "  if l == \"S\":\n",
        "    first = []\n",
        "    second = []\n",
        "    first[:int(len(out)/2)] = out[:int(len(out)/2)]\n",
        "    second[:int(len(out)/2)] = out[int(len(out)/2):]\n",
        "    for i in range(len(out)):\n",
        "      if i % 2 == 0:\n",
        "        out[i] = first[int(i/2)]\n",
        "      else:\n",
        "        out[i] = second[int((i-1)/2)]\n",
        "\n",
        "for card in out:\n",
        "  print(card, end=' ')"
      ],
      "metadata": {
        "id": "dQ8pQ3WbPxHy",
        "colab": {
          "base_uri": "https://localhost:8080/"
        },
        "outputId": "c9edc1fa-7e9d-4489-e748-827e7d32d43f"
      },
      "execution_count": 29,
      "outputs": [
        {
          "output_type": "stream",
          "name": "stdout",
          "text": [
            "A J Q 10\n",
            "C\n",
            "Q 10 A J "
          ]
        }
      ]
    },
    {
      "cell_type": "markdown",
      "source": [
        "#05_List_★★★_QueueTicket"
      ],
      "metadata": {
        "id": "z1hJwbqodSq9"
      }
    },
    {
      "cell_type": "code",
      "source": [
        "q = list() # List q collects proper ticket queues\n",
        "n = int(input()) # Number of commands\n",
        "time = []\n",
        "queue = []\n",
        "que_num = 0\n",
        "call_num = 0\n",
        "q_time = []\n",
        "for k in range(n):\n",
        " c = input().split() # Read commands\n",
        " if c[0] == 'reset':\n",
        "  que_num = int(c[1])\n",
        "  call_num = int(c[1])\n",
        " elif c[0] == 'new':\n",
        "  print(f'ticket {que_num}')\n",
        "  time.append(int(c[1]))\n",
        "  queue.append(que_num)\n",
        "  que_num += 1\n",
        " elif c[0] == 'next':\n",
        "  print(f'call {call_num}')\n",
        "  call_num += 1\n",
        " elif c[0] == 'order':\n",
        "  print(f'qtime {call_num-1} {int(c[1])-time[queue.index(call_num-1)]}')\n",
        "  q_time.append(int(c[1])-time[queue.index(call_num-1)])\n",
        " elif c[0] == 'avg_qtime':\n",
        "  print( 'avg_qtime' , round(sum(q_time)/len(q_time),4))"
      ],
      "metadata": {
        "colab": {
          "base_uri": "https://localhost:8080/"
        },
        "id": "ja-t2e8UXJPq",
        "outputId": "e58b564d-4248-4dda-b7d0-17bdf78745dc"
      },
      "execution_count": 43,
      "outputs": [
        {
          "output_type": "stream",
          "name": "stdout",
          "text": [
            "8\n",
            "reset 301\n",
            "new 1100\n",
            "ticket 301\n",
            "new 1110\n",
            "ticket 302\n",
            "next\n",
            "call 301\n",
            "order 1120\n",
            "301 1100\n",
            "qtime 301 20\n",
            "next\n",
            "call 302\n",
            "order 1150\n",
            "302 1110\n",
            "qtime 302 40\n",
            "avg_qtime\n",
            "avg_qtime 30.0\n"
          ]
        }
      ]
    },
    {
      "cell_type": "code",
      "source": [],
      "metadata": {
        "id": "LQ8l029_jA5H"
      },
      "execution_count": null,
      "outputs": []
    }
  ]
}
