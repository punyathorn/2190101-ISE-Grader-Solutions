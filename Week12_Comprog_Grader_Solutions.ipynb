{
  "nbformat": 4,
  "nbformat_minor": 0,
  "metadata": {
    "colab": {
      "provenance": [],
      "gpuType": "T4",
      "authorship_tag": "ABX9TyNiaDbK2RyHWv8EtsV1Vlm2"
    },
    "kernelspec": {
      "name": "python3",
      "display_name": "Python 3"
    },
    "language_info": {
      "name": "python"
    },
    "accelerator": "GPU"
  },
  "cells": [
    {
      "cell_type": "markdown",
      "source": [
        "#12_Class-★★-Complex-Number"
      ],
      "metadata": {
        "id": "NJ4YkODOYqTu"
      }
    },
    {
      "cell_type": "code",
      "execution_count": null,
      "metadata": {
        "colab": {
          "base_uri": "https://localhost:8080/"
        },
        "id": "FFthJ8BZYoiS",
        "outputId": "c23638e4-4b13-4bee-b411-45ae36c23208"
      },
      "outputs": [
        {
          "output_type": "stream",
          "name": "stdout",
          "text": [
            "5 3 1 2 1\n",
            "1.4-0.2i\n"
          ]
        }
      ],
      "source": [
        "class Complex:\n",
        "  def __init__(self,a,b):\n",
        "    self.a = a\n",
        "    self.b = b\n",
        "    self.add = 0\n",
        "    self.string = ''\n",
        "    self.apc = 0\n",
        "    self.bpd = 0\n",
        "    self.m_r = 0\n",
        "    self.m_i = 0\n",
        "    self.mul = 0\n",
        "    self.div = 0\n",
        "\n",
        "  def __str__(self):\n",
        "    if self.a != 0:\n",
        "      if self.b > 0 and self.b != 1:\n",
        "        self.string = f'{self.a}+{self.b}i'\n",
        "      elif self.b < 0 and self.b != -1:\n",
        "        self.string = f'{self.a}{self.b}i'\n",
        "      elif self.b == 1:\n",
        "        self.string = f'{self.a}+i'\n",
        "      elif self.b == -1:\n",
        "        self.string = f'{self.a}-i'\n",
        "      elif self.b == 0:\n",
        "        self.string = f'{self.a}'\n",
        "    elif self.a == 0:\n",
        "      if (self.b != 0) and (self.b != -1) and (self.b != 1):\n",
        "        self.string = f'{self.b}i'\n",
        "      elif self.b == 0:\n",
        "        self.string = '0'\n",
        "      elif self.b == 1:\n",
        "        self.string = 'i'\n",
        "      elif self.b == -1:\n",
        "        self.string = '-i'\n",
        "    return self.string\n",
        "\n",
        "  def __add__(self, rhs):\n",
        "    self.apc = self.a+rhs.a\n",
        "    self.bpd = self.b+rhs.b\n",
        "    if self.apc != 0:\n",
        "      if self.bpd > 0 and self.bpd != 1:\n",
        "        self.add = f'{self.apc}+{self.bpd}i'\n",
        "      elif self.bpd < 0 and self.bpd != -1:\n",
        "        self.add = f'{self.apc}{self.bpd}i'\n",
        "      elif self.bpd == 1:\n",
        "        self.add = f'{self.apc}+i'\n",
        "      elif self.bpd == -1:\n",
        "        self.add = f'{self.apc}-i'\n",
        "      elif self.bpd == 0:\n",
        "        self.add = f'{self.apc}'\n",
        "    elif self.apc == 0:\n",
        "      if (self.bpd != 0) and (self.bpd != -1) and (self.bpd != 1):\n",
        "        self.add = f'{self.bpd}i'\n",
        "      elif self.bpd == 0:\n",
        "        self.add = '0'\n",
        "      elif self.bpd == 1:\n",
        "        self.add = 'i'\n",
        "      elif self.bpd == -1:\n",
        "        self.add = '-i'\n",
        "    return self.add\n",
        "\n",
        "  def __mul__(self, rhs):\n",
        "    self.m_r = self.a*rhs.a - self.b*rhs.b\n",
        "    self.m_i = self.a*rhs.b + self.b*rhs.a\n",
        "    if self.m_r != 0:\n",
        "      if self.m_i > 0 and self.m_i != 1:\n",
        "        self.mul = f'{self.m_r}+{self.m_i}i'\n",
        "      elif self.m_i < 0 and self.m_i != -1:\n",
        "        self.mul = f'{self.m_r}{self.m_i}i'\n",
        "      elif self.m_i == 1:\n",
        "        self.mul = f'{self.m_r}+i'\n",
        "      elif self.m_i == -1:\n",
        "        self.mul = f'{self.m_r}-i'\n",
        "      elif self.m_i == 0:\n",
        "        self.mul = f'{self.m_r}'\n",
        "    elif self.m_r == 0:\n",
        "      if (self.m_i != 0) and (self.m_i != -1) and (self.m_i != 1):\n",
        "        self.mul = f'{self.m_i}i'\n",
        "      elif self.m_i == 0:\n",
        "        self.mul = '0'\n",
        "      elif self.m_i == 1:\n",
        "        self.mul = 'i'\n",
        "      elif self.m_i == -1:\n",
        "        self.mul = '-i'\n",
        "    return self.mul\n",
        "\n",
        "  def __truediv__(self, rhs):\n",
        "    self.div_r = float((self.a*rhs.a + self.b*rhs.b)/(rhs.a**2+rhs.b**2))\n",
        "    self.div_i = float((self.b*rhs.a - self.a*rhs.b)/(rhs.a**2+rhs.b**2))\n",
        "    if self.div_r != 0:\n",
        "      if self.div_i > 0 and self.div_i != 1:\n",
        "        self.div = f'{self.div_r}+{self.div_i}i'\n",
        "      elif self.div_i < 0 and self.div_i != -1:\n",
        "        self.div = f'{self.div_r}{self.div_i}i'\n",
        "      elif self.div_i == 1:\n",
        "        self.div = f'{self.div_r}+i'\n",
        "      elif self.div_i == -1:\n",
        "        self.div = f'{self.div_r}-i'\n",
        "      elif self.div_i == 0:\n",
        "        self.div = f'{self.div_r}'\n",
        "    elif self.div_r == 0:\n",
        "      if (self.div_i != 0) and (self.div_i != -1) and (self.div_i != 1):\n",
        "        self.div = f'{self.div_i}i'\n",
        "      elif self.div_i == 0:\n",
        "        self.div = '0'\n",
        "      elif self.div_i == 1:\n",
        "        self.div = 'i'\n",
        "      elif self.div_i == -1:\n",
        "        self.div = '-i'\n",
        "    return self.div\n",
        "\n",
        "\n",
        "t, a, b, c, d = [int(x) for x in input().split()]\n",
        "c1 = Complex(a,b)\n",
        "c2 = Complex(c,d)\n",
        "if t == 1: print(c1)\n",
        "elif t==2: print(c2)\n",
        "elif t==3: print(c1+c2)\n",
        "elif t==4: print(c1*c2)\n",
        "else: print(c1/c2)"
      ]
    },
    {
      "cell_type": "markdown",
      "source": [
        "#12_Class-★★-Card"
      ],
      "metadata": {
        "id": "X_1IcmShrBVB"
      }
    },
    {
      "cell_type": "code",
      "source": [
        "class Card:\n",
        "  def __init__(self, value, suit):\n",
        "    self.value = value\n",
        "    self.suit = suit\n",
        "    self.suit_rank = [\"3\", \"4\", \"5\", \"6\", \"7\", \"8\", \"9\", \"10\", \"J\", \"Q\", \"K\", \"A\", \"2\", \"club\", \"diamond\", \"heart\", \"spade\"]\n",
        "\n",
        "  def __str__(self):\n",
        "    return f'({self.value} {self.suit})'\n",
        "\n",
        "  def getScore(self):\n",
        "    if self.value == 'A':\n",
        "      return 1\n",
        "    elif self.value in 'JQK':\n",
        "      return 10\n",
        "    else:\n",
        "      return int(self.value)\n",
        "\n",
        "  def sum(self, other):\n",
        "    return (self.getScore()+other.getScore())%10\n",
        "\n",
        "  def __lt__(self, rhs):\n",
        "    if self.suit_rank.index(self.value) < self.suit_rank.index(rhs.value):\n",
        "      return True\n",
        "    else:\n",
        "      if self.value != rhs.value:\n",
        "        return False\n",
        "      else:\n",
        "        if self.suit_rank.index(self.suit) < self.suit_rank.index(rhs.suit):\n",
        "          return True\n",
        "        else:\n",
        "          return False\n",
        "\n",
        "n = int(input())\n",
        "cards = []\n",
        "for i in range(n):\n",
        "  value, suit = input().split()\n",
        "  cards.append(Card(value, suit))\n",
        "for i in range(n):\n",
        "  print(cards[i].getScore())\n",
        "print(\"----------\")\n",
        "for i in range(n-1):\n",
        "  print(Card.sum(cards[i], cards[i+1]))\n",
        "print(\"----------\")\n",
        "cards.sort()\n",
        "for i in range(n):\n",
        "  print(cards[i])"
      ],
      "metadata": {
        "id": "bGjzq9rJdpNo",
        "colab": {
          "base_uri": "https://localhost:8080/"
        },
        "outputId": "1902c9e2-dbb6-4168-930f-2035fd835c2a"
      },
      "execution_count": null,
      "outputs": [
        {
          "output_type": "stream",
          "name": "stdout",
          "text": [
            "5\n",
            "K heart\n",
            "K club\n",
            "7 diamond\n",
            "2 spade\n",
            "A spade\n",
            "10\n",
            "10\n",
            "7\n",
            "2\n",
            "1\n",
            "----------\n",
            "0\n",
            "7\n",
            "9\n",
            "3\n",
            "----------\n",
            "(7 diamond)\n",
            "(K club)\n",
            "(K heart)\n",
            "(A spade)\n",
            "(2 spade)\n"
          ]
        }
      ]
    },
    {
      "cell_type": "markdown",
      "source": [],
      "metadata": {
        "id": "1qdmCrilsBJT"
      }
    },
    {
      "cell_type": "code",
      "source": [
        "class Card:\n",
        "  def __init__(self, value, suit):\n",
        "    self.value = value\n",
        "    self.suit = suit\n",
        "    self.card_rank = [\"3\", \"4\", \"5\", \"6\", \"7\", \"8\", \"9\", \"10\", \"J\", \"Q\", \"K\", \"A\", \"2\"]\n",
        "    self.suit_rank = [\"club\", \"diamond\", \"heart\", \"spade\"]\n",
        "\n",
        "  def __str__(self):\n",
        "    return f'({self.value} {self.suit})'\n",
        "\n",
        "  def next1(self):\n",
        "    if self.card_rank.index(self.value) < 12:\n",
        "      if self.suit_rank.index(self.suit) < 3:\n",
        "        return Card(self.value, self.suit_rank[self.suit_rank.index(self.suit)+1])\n",
        "      else:\n",
        "        return Card(self.card_rank[self.card_rank.index(self.value)+1], self.suit_rank[0])\n",
        "    else:\n",
        "      if self.suit_rank.index(self.suit) < 3:\n",
        "        return Card(self.value, self.suit_rank[self.suit_rank.index(self.suit)+1])\n",
        "      else:\n",
        "        return Card(self.card_rank[0], self.suit_rank[0])\n",
        "\n",
        "  def next2(self):\n",
        "    self.value, self.suit = self.next1().value, self.next1().suit\n",
        "\n",
        "n = int(input())\n",
        "cards = []\n",
        "for i in range(n):\n",
        "  value, suit = input().split()\n",
        "  cards.append(Card(value, suit))\n",
        "for i in range(n):\n",
        "  print(cards[i].next1())\n",
        "print(\"----------\")\n",
        "for i in range(n):\n",
        "  print(cards[i])\n",
        "print(\"----------\")\n",
        "for i in range(n):\n",
        "  cards[i].next2()\n",
        "  cards[i].next2()\n",
        "  print(cards[i])"
      ],
      "metadata": {
        "colab": {
          "base_uri": "https://localhost:8080/"
        },
        "id": "VYoQpKN9sBck",
        "outputId": "0a1ee527-df9e-4e49-a555-e875b886a6b8"
      },
      "execution_count": null,
      "outputs": [
        {
          "output_type": "stream",
          "name": "stdout",
          "text": [
            "2\n",
            "J spade\n",
            "7 spade\n",
            "(Q club)\n",
            "(8 club)\n",
            "----------\n",
            "(J spade)\n",
            "(7 spade)\n",
            "----------\n",
            "(Q diamond)\n",
            "(8 diamond)\n"
          ]
        }
      ]
    },
    {
      "cell_type": "markdown",
      "source": [
        "#12_Class-★★★-Point-in-Rect"
      ],
      "metadata": {
        "id": "-_tLzO-5-OEQ"
      }
    },
    {
      "cell_type": "code",
      "source": [
        "class Point:\n",
        "  def __init__(self, x, y):\n",
        "    self.x = x\n",
        "    self.y = y\n",
        "  def __str__(self):\n",
        "    return \"(\"+str(self.x)+\",\"+str(self.y)+\")\"\n",
        "\n",
        "class Rect:\n",
        "  def __init__(self, p1, p2):\n",
        "    self.lowerleft = p1\n",
        "    self.upperright = p2\n",
        "\n",
        "  def area(self):\n",
        "    deltax = abs(self.lowerleft.x-self.upperright.x)\n",
        "    deltay = abs(self.lowerleft.y-self.upperright.y)\n",
        "    return deltax*deltay\n",
        "\n",
        "  def contains(self, p):\n",
        "    if p.x >= self.lowerleft.x and p.x <= self.upperright.x and p.y >= self.lowerleft.y and p.y <= self.upperright.y:\n",
        "      return True\n",
        "    else:\n",
        "      return False\n",
        "\n",
        "x1,y1,x2,y2 = [int(e) for e in input().split()]\n",
        "lowerleft = Point(x1,y1)\n",
        "upperright = Point(x2,y2)\n",
        "rect = Rect(lowerleft, upperright)\n",
        "print(rect.area())\n",
        "m = int(input())\n",
        "for i in range(m):\n",
        "  x,y = [int(e) for e in input().split()]\n",
        "  p = Point(x,y)\n",
        "  print(rect.contains(p))"
      ],
      "metadata": {
        "colab": {
          "base_uri": "https://localhost:8080/"
        },
        "id": "yQ2-Vjzp6Cl5",
        "outputId": "22a0dbc8-2ac6-49e6-c21b-2299c82da5c6"
      },
      "execution_count": null,
      "outputs": [
        {
          "output_type": "stream",
          "name": "stdout",
          "text": [
            "2 2 10 10\n",
            "64\n",
            "4\n",
            "0 0\n",
            "False\n",
            "2 4\n",
            "True\n",
            "3 5\n",
            "True\n",
            "10 1\n",
            "False\n"
          ]
        }
      ]
    },
    {
      "cell_type": "markdown",
      "source": [
        "#12_Class-★★★-Rect-Sorted-by-Area"
      ],
      "metadata": {
        "id": "zUeoOZyQGhvn"
      }
    },
    {
      "cell_type": "code",
      "source": [
        "class Point:\n",
        "  def __init__(self, x, y):\n",
        "    self.x = x\n",
        "    self.y = y\n",
        "  def __str__(self):\n",
        "    return \"(\"+str(self.x)+\",\"+str(self.y)+\")\"\n",
        "\n",
        "class Rect:\n",
        "  def __init__(self, p1, p2):\n",
        "    self.lowerleft = p1\n",
        "    self.upperright = p2\n",
        "\n",
        "  def __str__(self):\n",
        "    return str(self.lowerleft)+\"-\"+str(self.upperright)\n",
        "\n",
        "  def area(self):\n",
        "    deltax = abs(self.lowerleft.x-self.upperright.x)\n",
        "    deltay = abs(self.lowerleft.y-self.upperright.y)\n",
        "    return deltax*deltay\n",
        "\n",
        "  def __lt__(self, rhs):\n",
        "    if self.area() < rhs.area():\n",
        "      return True\n",
        "    else:\n",
        "      return False\n",
        "\n",
        "n = int(input())\n",
        "rects = []\n",
        "for i in range(n):\n",
        "  x1,y1,x2,y2 = [int(e) for e in input().split()]\n",
        "  rects.append(Rect(Point(x1,y1), Point(x2,y2)))\n",
        "rects.sort()\n",
        "for i in range(n):\n",
        "  print(rects[i])"
      ],
      "metadata": {
        "id": "E_tQjLn4Fuhp",
        "colab": {
          "base_uri": "https://localhost:8080/"
        },
        "outputId": "8fba35d9-3b2b-479d-b13c-db74e96a09a5"
      },
      "execution_count": null,
      "outputs": [
        {
          "output_type": "stream",
          "name": "stdout",
          "text": [
            "3\n",
            "1 1 3 3\n",
            "0 0 10 10\n",
            "2 2 3 3\n",
            "(2,2)-(3,3)\n",
            "(1,1)-(3,3)\n",
            "(0,0)-(10,10)\n"
          ]
        }
      ]
    },
    {
      "cell_type": "markdown",
      "source": [
        "#12_Class-★★★-Piggy-Bank-1"
      ],
      "metadata": {
        "id": "93rkJZ-BFLVS"
      }
    },
    {
      "cell_type": "code",
      "source": [
        "class piggybank:\n",
        "  def __init__(self):\n",
        "    # has 4 variables storing the\n",
        "    # amount for each type of coins\n",
        "    self.ten = 0\n",
        "    self.five = 0\n",
        "    self.two = 0\n",
        "    self.one = 0\n",
        "  def add1(self, n):\n",
        "    # adds n into the variable that\n",
        "    #stores 1-Baht coins\n",
        "    self.one += n\n",
        "  def add2(self, n):\n",
        "    # adds n into the variable that\n",
        "    #stores 2-Baht coins\n",
        "    self.two += n\n",
        "  def add5(self, n):\n",
        "    # adds n into the variable that\n",
        "    #stores 5-Baht coins\n",
        "    self.five += n\n",
        "  def add10(self, n):\n",
        "    # adds n into the variable that\n",
        "    #stores 10 Baht coins\n",
        "    self.ten += n\n",
        "  def __int__(self):\n",
        "    # returns the total value (the\n",
        "    # amount of coins multiplied by\n",
        "    #coins value)\n",
        "    return 1*self.one + 2*self.two + 5*self.five + 10*self.ten\n",
        "  def __lt__(self, rhs):\n",
        "    # comparing the total money\n",
        "    #between self and rhs\n",
        "    if int(self) < int(rhs):\n",
        "      return True\n",
        "    else:\n",
        "      return False\n",
        "  def __str__(self):\n",
        "    # return the strings that shows\n",
        "    # the amount of each coin per\n",
        "    # example\n",
        "    return \"{\"+f\"1:{self.one}, 2:{self.two}, 5:{self.five}, 10:{self.ten}\"+\"}\"\n",
        "\n",
        "cmd1 = input().split(';')\n",
        "cmd2 = input().split(';')\n",
        "p1 = piggybank() ; p2 = piggybank()\n",
        "for c in cmd1: eval(c)\n",
        "for c in cmd2: eval(c)"
      ],
      "metadata": {
        "colab": {
          "base_uri": "https://localhost:8080/"
        },
        "id": "lVy5Rt2YFLr5",
        "outputId": "2c2323c5-6cae-431f-8947-cdcd5beb4278"
      },
      "execution_count": null,
      "outputs": [
        {
          "output_type": "stream",
          "name": "stdout",
          "text": [
            "p1.add1(1);p1.add2(3);p1.add5(2);p1.add10(3)\n",
            "p1.add1(4);p1.add2(2);p1.add5(1);p1.add10(8);print(int(p1),str(p1))\n",
            "140 {1: 5, 2: 5, 5: 3, 10: 11}\n"
          ]
        }
      ]
    }
  ]
}