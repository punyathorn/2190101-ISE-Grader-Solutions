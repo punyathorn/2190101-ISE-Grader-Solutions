{
  "nbformat": 4,
  "nbformat_minor": 0,
  "metadata": {
    "colab": {
      "provenance": [],
      "gpuType": "T4",
      "authorship_tag": "ABX9TyOVntFQqGG7aK7Dfl/QNoBF"
    },
    "kernelspec": {
      "name": "python3",
      "display_name": "Python 3"
    },
    "language_info": {
      "name": "python"
    },
    "accelerator": "GPU"
  },
  "cells": [
    {
      "cell_type": "markdown",
      "source": [
        "#09_​NestedLoop_​★_​Dedent"
      ],
      "metadata": {
        "id": "3G0j-dyVRWHf"
      }
    },
    {
      "cell_type": "code",
      "execution_count": null,
      "metadata": {
        "colab": {
          "base_uri": "https://localhost:8080/"
        },
        "id": "3B7F1NfMMYuY",
        "outputId": "886562e9-addd-47c8-dea1-a767567c0ab0"
      },
      "outputs": [
        {
          "output_type": "stream",
          "name": "stdout",
          "text": [
            "7\n",
            "n = int(input(\"n = \"))\n",
            "n = int(input(\"n = \"))\n",
            "for k in range(2,n):\n",
            "for k in range(2,n):\n",
            "....if n%k == 0:\n",
            "..if n%k == 0:\n",
            "........print(\"composite..\")\n",
            "....print(\"composite..\")\n",
            "........break\n",
            "....break\n",
            "else:\n",
            "else:\n",
            "....print(\"prime.\")\n",
            "..print(\"prime.\")\n"
          ]
        }
      ],
      "source": [
        "n = int(input())\n",
        "outout = []\n",
        "for i in range(n):\n",
        "  a = input()\n",
        "  dot = 0\n",
        "  out = ''\n",
        "  for l in a:\n",
        "    if l == '.':\n",
        "      dot += 1\n",
        "    else:\n",
        "      break\n",
        "  out += '.'*(dot//2)\n",
        "  for i in range(dot,len(a)):\n",
        "    out += a[i]\n",
        "  outout.append(out)\n",
        "\n",
        "for line in outout:\n",
        "  print(line)\n",
        "\n",
        "\n"
      ]
    },
    {
      "cell_type": "markdown",
      "source": [
        "#09_NestedLoop_★★_Factorization"
      ],
      "metadata": {
        "id": "kh7K0P8jRY6h"
      }
    },
    {
      "cell_type": "code",
      "source": [
        "def factor(n):\n",
        "  out = []\n",
        "  final_out = []\n",
        "  i = 2\n",
        "  while n > 1:\n",
        "    a = 0\n",
        "    while n%i == 0:\n",
        "      a += 1\n",
        "      n //= i\n",
        "      #print(i,n)\n",
        "    if a != 0:\n",
        "      out.append([i,a])\n",
        "    i += 1\n",
        "  return out\n",
        "\n",
        "exec(input().strip())"
      ],
      "metadata": {
        "colab": {
          "base_uri": "https://localhost:8080/"
        },
        "id": "7yqzawc5N5fk",
        "outputId": "27b45ca6-339c-4d3a-9a68-71731294b447"
      },
      "execution_count": null,
      "outputs": [
        {
          "output_type": "stream",
          "name": "stdout",
          "text": [
            "print(factor(8137740897))\n",
            "[[3, 4], [11, 2], [13, 2], [17, 3]]\n",
            "None\n"
          ]
        }
      ]
    },
    {
      "cell_type": "markdown",
      "source": [
        "#09_NestedList_★★_Matrix"
      ],
      "metadata": {
        "id": "OcibcJaETXjx"
      }
    },
    {
      "cell_type": "code",
      "source": [
        "def read_matrix():\n",
        "    m = []\n",
        "    nrows = int(input())\n",
        "    for k in range(nrows):\n",
        "        x = input().split()\n",
        "        r = []\n",
        "        for e in x:\n",
        "            r.append(float(e))\n",
        "        m.append(r)\n",
        "    return m\n",
        "\n",
        "def mult_c(c, A):\n",
        "    B = A.copy()\n",
        "    for i in range(len(B)):\n",
        "      for j in range(len(A[0])):\n",
        "        A[i][j] = c*B[i][j]\n",
        "    return A\n",
        "\n",
        "\n",
        "def mult(A, B):\n",
        "    m = len(A)\n",
        "    p = len(B[0])\n",
        "    n = len(A[0])\n",
        "    C = list()\n",
        "    abcd = []\n",
        "    for i in range(m):\n",
        "      out = []\n",
        "      for k in range(p):\n",
        "        sum = 0\n",
        "        for j in range(n):\n",
        "          sum += A[i][j]*B[j][k]\n",
        "        out.append(sum)\n",
        "      abcd.append(out)\n",
        "    return abcd\n",
        "\n",
        "exec(input().strip())"
      ],
      "metadata": {
        "colab": {
          "base_uri": "https://localhost:8080/"
        },
        "id": "5RsErWcjR3Jc",
        "outputId": "36ae41bb-247e-450a-a7b8-1eee6e8610de"
      },
      "execution_count": null,
      "outputs": [
        {
          "output_type": "stream",
          "name": "stdout",
          "text": [
            "print(mult_c(0.2, read_matrix()))\n",
            "1\n",
            "10 10 10 10\n",
            "[[2.0, 2.0, 2.0, 2.0]]\n"
          ]
        }
      ]
    },
    {
      "cell_type": "markdown",
      "source": [
        "#09_NestedList_★★_Tiling_Puzzle"
      ],
      "metadata": {
        "id": "XtjBpv_I_rTE"
      }
    },
    {
      "cell_type": "code",
      "source": [
        "def row_number(t, e):\n",
        " for i in range(len(t)):\n",
        "  for j in range(len(t[i])):\n",
        "    if t[i][j] == e:\n",
        "      return i\n",
        "def flatten(t):\n",
        "  out = []\n",
        "  for i in range(len(t)):\n",
        "    for j in range(len(t[i])):\n",
        "      if t[i][j] != 0:\n",
        "        out.append(t[i][j])\n",
        "  return out\n",
        "def inversions(x):\n",
        "  out = []\n",
        "  inv = 0\n",
        "  for i in range(len(x)):\n",
        "    for j in range(i+1,len(x)):\n",
        "        out.append((x[i],x[j]))\n",
        "  for i in range(len(out)):\n",
        "    if out[i][0] > out[i][1]:\n",
        "      inv += 1\n",
        "  return inv\n",
        "def solvable(t):\n",
        "  rows = len(t)\n",
        "  inv = inversions(flatten(t))\n",
        "  zero = row_number(t,0)\n",
        "  if rows%2==1 and inv%2==0:\n",
        "    return True\n",
        "  if rows%2==0:\n",
        "    if inv%2 == 1 and zero%2 == 0:\n",
        "      return True\n",
        "    if inv%2 == 0 and zero%2 == 1:\n",
        "      return True\n",
        "  return False\n",
        "\n",
        "exec(input().strip()) # do not remove this line"
      ],
      "metadata": {
        "id": "f8m7C6qLU83r",
        "colab": {
          "base_uri": "https://localhost:8080/"
        },
        "outputId": "112204f0-515c-4dc8-e96e-53a7648c8d71"
      },
      "execution_count": null,
      "outputs": [
        {
          "output_type": "stream",
          "name": "stdout",
          "text": [
            "print(solvable([[0,8,7],[6,5,4],[3,2,1]]))\n",
            "True\n"
          ]
        }
      ]
    },
    {
      "cell_type": "markdown",
      "source": [
        "#09_NestedLoop_★★★_Pythagorean_Triple"
      ],
      "metadata": {
        "id": "8lf_-gVNJPw2"
      }
    },
    {
      "cell_type": "code",
      "source": [
        "def gcd(a, b):\n",
        " while b != 0:\n",
        "  a, b = b, a%b\n",
        " return a\n",
        "\n",
        "def is_coprime(a, b, c):\n",
        "  if gcd(gcd(a,b),c) == 1:\n",
        "    return True\n",
        "  return False\n",
        "\n",
        "def primitive_Pythagorean_triples(max_len):\n",
        "  triple = []\n",
        "  triple2 = []\n",
        "  for i in range(max_len):\n",
        "    for j in range(max_len):\n",
        "      for k in range(max_len):\n",
        "        if (k+1)**2 == (i+1)**2+(j+1)**2:\n",
        "          if is_coprime(i+1,j+1,k+1):\n",
        "            if i+1 < j+1 :\n",
        "              triple2.append([k+1,j+1,i+1])\n",
        "\n",
        "  triple2.sort()\n",
        "  for i in range(len(triple2)):\n",
        "    triple.append([triple2[i][2],triple2[i][1],triple2[i][0]])\n",
        "  for i in range(len(triple)):\n",
        "    if i < len(triple) -1:\n",
        "      if triple[i][2] == triple[i+1][2]:\n",
        "        triple[i], triple[i+1] = triple[i+1], triple[i]\n",
        "\n",
        "  return triple\n",
        "exec(input().strip()) # you must have this line to submit grader"
      ],
      "metadata": {
        "id": "LzwN7qhZHDpH",
        "colab": {
          "base_uri": "https://localhost:8080/"
        },
        "outputId": "b23d9578-d1d7-41ce-a57f-0471ded4070c"
      },
      "execution_count": null,
      "outputs": [
        {
          "output_type": "stream",
          "name": "stdout",
          "text": [
            "print(primitive_Pythagorean_triples(200))\n",
            "[[3, 4, 5], [5, 12, 13], [8, 15, 17], [7, 24, 25], [20, 21, 29], [12, 35, 37], [9, 40, 41], [28, 45, 53], [11, 60, 61], [16, 63, 65], [33, 56, 65], [48, 55, 73], [13, 84, 85], [36, 77, 85], [39, 80, 89], [65, 72, 97], [20, 99, 101], [60, 91, 109], [15, 112, 113], [44, 117, 125], [88, 105, 137], [17, 144, 145], [24, 143, 145], [51, 140, 149], [85, 132, 157], [119, 120, 169], [52, 165, 173], [19, 180, 181], [57, 176, 185], [104, 153, 185], [95, 168, 193], [28, 195, 197]]\n"
          ]
        }
      ]
    },
    {
      "cell_type": "markdown",
      "source": [
        "#09_NestedList_★★★_FirstFit_BestFit"
      ],
      "metadata": {
        "id": "3p1O1scz7-dN"
      }
    },
    {
      "cell_type": "code",
      "source": [
        "def first_fit(L, e):  # put e into sub-list inside L by using First Fit.\n",
        "  if len(L) == 0:\n",
        "    L.append([e])\n",
        "    return\n",
        "  b = 0\n",
        "  for i in range(len(L)):\n",
        "    sum = 0\n",
        "    for j in range(len(L[i])):\n",
        "      sum += L[i][j]\n",
        "    if sum + e <= 100:\n",
        "      L[i].append(e)\n",
        "      b += 1\n",
        "      break\n",
        "      continue\n",
        "  if b == 0:\n",
        "    L.append([e])\n",
        "\n",
        "def best_fit(L, e):   # put e into sub-list inside L by using Best Fit.\n",
        "  if len(L) == 0:\n",
        "    L.append([e])\n",
        "    return\n",
        "  delta = []\n",
        "  for i in range(len(L)):\n",
        "    if sum(L[i]) + e <= 100:\n",
        "      delta.append([100-(sum(L[i])+e),i])\n",
        "  delta.sort()\n",
        "  if len(delta) > 0:\n",
        "    L[delta[0][1]].append(e)\n",
        "  else:\n",
        "    L.append([e])\n",
        "\n",
        "def partition_FF(D):  # return a list of partitioned data from D using First Fit.\n",
        "  sD = D.copy()\n",
        "  out = []\n",
        "  while len(sD) != 0:\n",
        "    outout = []\n",
        "    did = []\n",
        "    for i in range(len(sD)):\n",
        "      if sum(outout) < 100 and (sum(outout) + sD[i]) <= 100:\n",
        "        outout.append(sD[i])\n",
        "        did.append(sD[i])\n",
        "    for id in did:\n",
        "      sD.remove(id)\n",
        "    out.append(outout)\n",
        "  return out\n",
        "\n",
        "def partition_BF(D): # return a list of partitioned data from D using Best Fit.\n",
        "  B = list()\n",
        "  for e in D:\n",
        "    best_fit(B,e)\n",
        "  return B\n",
        "exec(input().strip())"
      ],
      "metadata": {
        "colab": {
          "base_uri": "https://localhost:8080/"
        },
        "id": "HFQy_ldU7_f1",
        "outputId": "ac8f7474-3554-4d45-f474-18d85d0206cb"
      },
      "execution_count": null,
      "outputs": [
        {
          "output_type": "stream",
          "name": "stdout",
          "text": [
            "print(partition_BF([51,60,49,42,49,43,11,31,50,17,13,57,41,27,26,23,23,45,38,50,16,10,18,56,44,49,6,23,15,57]))\n",
            "[[51, 49], [60, 11, 13, 16], [42, 49], [43, 31, 17], [50, 27, 23], [57, 41], [26, 23, 45, 6], [38, 50, 10], [18, 56, 23], [44, 49], [15, 57]]\n"
          ]
        }
      ]
    },
    {
      "cell_type": "markdown",
      "source": [
        "#09_NestedList_★★★_Fill_In_Numbers"
      ],
      "metadata": {
        "id": "JtUssgVCOvnv"
      }
    },
    {
      "cell_type": "code",
      "source": [
        "def pattern1(nrows,ncols):\n",
        "  out = []\n",
        "  for i in range(nrows):\n",
        "    outout = []\n",
        "    for j in range(ncols*i+1,ncols*(i+1)+1):\n",
        "      outout.append(j)\n",
        "    out.append(outout)\n",
        "  return out\n",
        "\n",
        "def pattern2(nrows,ncols):\n",
        "  out = []\n",
        "  for i in range(nrows):\n",
        "    outout = []\n",
        "    for j in range(ncols):\n",
        "      outout.append(i+1+nrows*(j))\n",
        "    out.append(outout)\n",
        "  return out\n",
        "\n",
        "def pattern3(N):\n",
        "  out = []\n",
        "  c=1\n",
        "  for i in range(N):\n",
        "    outout = []\n",
        "    for k in range(i):\n",
        "      outout.append(0)\n",
        "    for j in range(N-i):\n",
        "      outout.append(c)\n",
        "      c+=1\n",
        "    out.append(outout)\n",
        "  return out\n",
        "\n",
        "def pattern4(N):\n",
        "  out = []\n",
        "  l=0\n",
        "  for i in range(N):\n",
        "    c=i+1+l\n",
        "    outout = []\n",
        "    for k in range(i):\n",
        "      outout.append(0)\n",
        "    for j in range(N-i):\n",
        "      outout.append(c)\n",
        "      c+=i+j+2\n",
        "    out.append(outout)\n",
        "    l+=i\n",
        "  return out\n",
        "\n",
        "def pattern5(N):\n",
        "  out = []\n",
        "  for i in range(N):\n",
        "    c=i+1\n",
        "    outout = []\n",
        "    for k in range(i):\n",
        "      outout.append(0)\n",
        "    for j in range(i,N):\n",
        "      outout.append(c)\n",
        "      c+=N-(j)+i\n",
        "    out.append(outout)\n",
        "  return out\n",
        "\n",
        "#The pattern6 function below is obtained from another github linked in the readme disclaimer.\n",
        "def pattern6(n):\n",
        "    triangle = []\n",
        "    num = 1\n",
        "    for i in range(n):\n",
        "        triangle.append([])\n",
        "        for j in range(n-i):\n",
        "            triangle[-1].append(num)\n",
        "            num += 1\n",
        "        if i % 2 == 1:\n",
        "            triangle[-1] = triangle[-1][::-1]\n",
        "    output = []\n",
        "    for i in range(n):\n",
        "        row = []\n",
        "        for j in range(n-i):\n",
        "            row.append(triangle[j][i])\n",
        "        output.append([0]*i+row)\n",
        "    return output\n",
        "\n",
        "exec(input().strip())"
      ],
      "metadata": {
        "id": "-jXn4kS1-W0l",
        "colab": {
          "base_uri": "https://localhost:8080/"
        },
        "outputId": "d930a4c9-fd0d-464d-ee72-3dfac3a8ec8b"
      },
      "execution_count": 11,
      "outputs": [
        {
          "output_type": "stream",
          "name": "stdout",
          "text": [
            "print(pattern2(8,6), pattern2(6,8))\n",
            "[[1, 9, 17, 25, 33, 41], [2, 10, 18, 26, 34, 42], [3, 11, 19, 27, 35, 43], [4, 12, 20, 28, 36, 44], [5, 13, 21, 29, 37, 45], [6, 14, 22, 30, 38, 46], [7, 15, 23, 31, 39, 47], [8, 16, 24, 32, 40, 48]] [[1, 7, 13, 19, 25, 31, 37, 43], [2, 8, 14, 20, 26, 32, 38, 44], [3, 9, 15, 21, 27, 33, 39, 45], [4, 10, 16, 22, 28, 34, 40, 46], [5, 11, 17, 23, 29, 35, 41, 47], [6, 12, 18, 24, 30, 36, 42, 48]]\n"
          ]
        }
      ]
    }
  ]
}
