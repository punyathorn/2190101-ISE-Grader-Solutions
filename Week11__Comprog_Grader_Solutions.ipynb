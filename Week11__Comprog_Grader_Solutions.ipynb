{
  "nbformat": 4,
  "nbformat_minor": 0,
  "metadata": {
    "colab": {
      "provenance": [],
      "gpuType": "T4",
      "authorship_tag": "ABX9TyMXpu+e8RZ0FcWjzbULc+wc"
    },
    "kernelspec": {
      "name": "python3",
      "display_name": "Python 3"
    },
    "language_info": {
      "name": "python"
    },
    "accelerator": "GPU"
  },
  "cells": [
    {
      "cell_type": "markdown",
      "source": [
        "#11_NumPy_★_Indexing_and_Slicing"
      ],
      "metadata": {
        "id": "AZreZMcvSr9t"
      }
    },
    {
      "cell_type": "code",
      "execution_count": null,
      "metadata": {
        "colab": {
          "base_uri": "https://localhost:8080/"
        },
        "id": "GOcgVF_wSorE",
        "outputId": "776191ee-b7e9-4224-e7b9-2d67fa43f77a"
      },
      "outputs": [
        {
          "output_type": "stream",
          "name": "stdout",
          "text": [
            "A=np.array([[1,2,3],[4,5,6],[7,8,9]]); print(get_diagonal2(A))\n",
            "[3 5 7]\n"
          ]
        }
      ],
      "source": [
        "import numpy as np\n",
        "# A is a 2-d array\n",
        "def get_column_from_bottom_to_top( A, c ):\n",
        "  return A[::-1,c]\n",
        "\n",
        "def get_odd_rows( A ):\n",
        "  return A[1::2]\n",
        "\n",
        "def get_even_column_last_row( A ):\n",
        "  return A[-1,0::2]\n",
        "\n",
        "def get_diagonal1( A ):# A is a square matrix\n",
        "# from top-left corner down to bottom-right corner\n",
        "  outout = []\n",
        "  for i in range(A.shape[0]):\n",
        "    outout.append(A[i,i])\n",
        "  return np.array(outout)\n",
        "def get_diagonal2( A ): # A is a square matrix\n",
        "# from top-right corner down to bottom-left corner\n",
        "  outout = []\n",
        "  for i in range(0,-A.shape[0],-1):\n",
        "    outout.append(A[-i,i-1])\n",
        "  return np.array(outout)\n",
        "\n",
        "exec(input().strip())"
      ]
    },
    {
      "cell_type": "markdown",
      "source": [
        "#11_NumPy_★_Scalar_and_Array"
      ],
      "metadata": {
        "id": "gIKNwaiwYGxr"
      }
    },
    {
      "cell_type": "code",
      "source": [
        "import numpy as np\n",
        "def toCelsius(f):\n",
        "  return (f-32)*5/9\n",
        "\n",
        "def BMI(wh):\n",
        "  w = wh[:,0]\n",
        "  h = wh[:,1]\n",
        "  h = h/100\n",
        "  h = h**2\n",
        "  B = w/h\n",
        "  return B\n",
        "  pass\n",
        "\n",
        "def distanceTo(p,Points):\n",
        "  dxdy = Points-p\n",
        "  dx = dxdy[:,0]\n",
        "  dy = dxdy[:,1]\n",
        "  d = (dx**2+dy**2)**0.5\n",
        "  return d\n",
        "\n",
        "exec(input().strip())"
      ],
      "metadata": {
        "colab": {
          "base_uri": "https://localhost:8080/"
        },
        "id": "uPbn6fUgTaYG",
        "outputId": "11525ca9-af8e-4f17-ba30-3eb3db8d36fe"
      },
      "execution_count": null,
      "outputs": [
        {
          "output_type": "stream",
          "name": "stdout",
          "text": [
            "print(distanceTo([0,0],np.array([[3,0],[0,4],[3,4]])))\n",
            "[[3 0]\n",
            " [0 4]\n",
            " [3 4]]\n",
            "[3 0 3]\n",
            "[0 4 4]\n",
            "[ 4.5  8.  12.5]\n",
            "[9 0 9]\n",
            "[ 0 16 16]\n",
            "[ 9 16 25]\n",
            "None\n"
          ]
        }
      ]
    },
    {
      "cell_type": "markdown",
      "source": [
        "#11_​NumPy_​★_​Logistic_​Regression"
      ],
      "metadata": {
        "id": "GDAePv0cbx38"
      }
    },
    {
      "cell_type": "code",
      "source": [
        "import numpy as np\n",
        "import math\n",
        "def p(x):\n",
        "  ps = x[:,0]\n",
        "  gpa = x[:,1]\n",
        "  logit = -3.98 + 0.1*ps + 0.5*gpa\n",
        "  return 1/(1+math.e**(-logit))\n",
        "\n",
        "exec(input().strip())"
      ],
      "metadata": {
        "colab": {
          "base_uri": "https://localhost:8080/"
        },
        "id": "1pS7Q6H5YlZP",
        "outputId": "ce0a299b-7516-4d82-ccc5-249920268e8a"
      },
      "execution_count": null,
      "outputs": [
        {
          "output_type": "stream",
          "name": "stdout",
          "text": [
            "print(p(np.array([[100,4.00]])))\n",
            "[8.02]\n",
            "[100.]\n",
            "[4.]\n",
            "[0.99967129]\n"
          ]
        }
      ]
    },
    {
      "cell_type": "markdown",
      "source": [
        "#11_NumPy_★★_Slicing and Element-wise Op."
      ],
      "metadata": {
        "id": "72_JLzpGnVAw"
      }
    },
    {
      "cell_type": "code",
      "source": [
        "import numpy as np\n",
        "def sum_2_rows(M):\n",
        "  out = []\n",
        "  for i in range(0,M.shape[0],2):\n",
        "      out.append(M[i:i+2].sum(axis=0))\n",
        "  return np.array(out)\n",
        "\n",
        "def sum_left_right(M):\n",
        "  out = []\n",
        "  mid = int(M.shape[1]/2)\n",
        "  for i in range(M.shape[0]):\n",
        "    outout = []\n",
        "    for j in range(mid):\n",
        "        outout.append(M[i,j]+M[i,j+mid])\n",
        "    outout = np.array(outout)\n",
        "    out.append(outout)\n",
        "\n",
        "  return np.array(out)\n",
        "\n",
        "def sum_upper_lower(M):\n",
        "  out = []\n",
        "  mid = int(M.shape[0]/2)\n",
        "  for i in range(mid):\n",
        "    out.append(M[i,:]+M[i+mid,:])\n",
        "  return np.array(out)\n",
        "\n",
        "def sum_4_quadrants(M):\n",
        "  lr = sum_left_right(M)\n",
        "  ul = sum_upper_lower(sum_left_right(M))\n",
        "  return ul\n",
        "\n",
        "def sum_4_cells(M):\n",
        "  out = []\n",
        "  for i in range(0,M.shape[0],2):\n",
        "    rr = M[i,:]+M[i+1,:]\n",
        "    outout = []\n",
        "    for j in range(0,M.shape[1],2):\n",
        "      outout.append((rr[j]+rr[j+1]))\n",
        "    out.append(outout)\n",
        "  return np.array(out)\n",
        "\n",
        "def count_leap_years(M):\n",
        "  c = 0\n",
        "  for i in range(M.shape[0]):\n",
        "    y = M[i] - 543\n",
        "    if y%4==0 and y%100!=0:\n",
        "      c += 1\n",
        "    elif y%400== 0:\n",
        "      c +=1\n",
        "  return c\n",
        "\n",
        "\n",
        "exec(input().strip())"
      ],
      "metadata": {
        "id": "omRrnoEZcLDL",
        "colab": {
          "base_uri": "https://localhost:8080/"
        },
        "outputId": "a4f7c9f1-0748-4f53-b198-37601d11ae29"
      },
      "execution_count": null,
      "outputs": [
        {
          "output_type": "stream",
          "name": "stdout",
          "text": [
            "print(count_leap_years(np.array([2143, 2543, 2544, 2643, 2562, 2559, 2560, 2561, 2547, 2562, 2563])))\n",
            "(11,)\n",
            "5\n"
          ]
        }
      ]
    },
    {
      "cell_type": "markdown",
      "source": [
        "#11_NumPy_★★_Outer_Product"
      ],
      "metadata": {
        "id": "fmn1Rqza2pR0"
      }
    },
    {
      "cell_type": "code",
      "source": [
        "import numpy as np\n",
        "\n",
        "def mult_table(nrows,ncols):\n",
        "  a = []\n",
        "  for i in range(nrows):\n",
        "    a.append((i+1)*np.arange(1,ncols+1))\n",
        "  return np.array(a)\n",
        "\n",
        "exec(input().strip())"
      ],
      "metadata": {
        "id": "yFkygc0J2Hs3",
        "colab": {
          "base_uri": "https://localhost:8080/"
        },
        "outputId": "d064dda9-7f88-46ed-85fd-681e32cfb8cf"
      },
      "execution_count": null,
      "outputs": [
        {
          "output_type": "stream",
          "name": "stdout",
          "text": [
            "print(mult_table(3,4))\n",
            "[[ 1  2  3  4]\n",
            " [ 2  4  6  8]\n",
            " [ 3  6  9 12]]\n"
          ]
        }
      ]
    },
    {
      "cell_type": "markdown",
      "source": [
        "#11_NumPy_★★_Lower_than_Mean"
      ],
      "metadata": {
        "id": "m0cbjcsjM54_"
      }
    },
    {
      "cell_type": "code",
      "source": [
        "import numpy as np\n",
        "\n",
        "def read_data():\n",
        "  w = [float(e) for e in input().split()]\n",
        "  weight = np.array(w)\n",
        "  n = int(input())\n",
        "  data = np.ndarray((n,4),int)\n",
        "  for i in range(n):\n",
        "    data[i] = [int(e) for e in input().split()]\n",
        "  return weight, data\n",
        "\n",
        "def report_lower_than_mean(weight, data):\n",
        "    result = []\n",
        "    out = []\n",
        "    for i in range(data.shape[0]):\n",
        "        outout = []\n",
        "        for j in range(data.shape[1]):\n",
        "          if j > 0:\n",
        "              outout.append(weight[j-1]*data[i,j])\n",
        "        outout.append(sum(outout))\n",
        "        outout.insert(0,data[i,0])\n",
        "        result.append(outout)\n",
        "    np.set_printoptions(precision=2, suppress=True)\n",
        "    result = np.array(result)\n",
        "    avg = float(result.sum(0)[4]/result.shape[0])\n",
        "    for i in range(result.shape[0]):\n",
        "       if result[i,4] < avg:\n",
        "          out.append(result[i,0])\n",
        "    if len(out) != 0:\n",
        "        for i in range(len(out)):\n",
        "           out[i] = str(int(out[i]))\n",
        "        print(', '.join(out))\n",
        "    else:\n",
        "       print('None')\n",
        "\n",
        "\n",
        "exec(input().strip())"
      ],
      "metadata": {
        "id": "1xRdmakjLphM"
      },
      "execution_count": null,
      "outputs": []
    },
    {
      "cell_type": "markdown",
      "source": [
        "#11_NumPy_★★_Peak_Indexes"
      ],
      "metadata": {
        "id": "zrE4X7HUax10"
      }
    },
    {
      "cell_type": "code",
      "source": [
        "import numpy as np\n",
        "def peak_indexes(x):\n",
        "  out = []\n",
        "  for i in range(x.shape[0]):\n",
        "    if i < x.shape[0]-1 and i != 0:\n",
        "      if x[i] > x[i-1] and x[i] > x[i+1]:\n",
        "        out.append(i)\n",
        "\n",
        "  return out\n",
        "def main():\n",
        "  d = np.array([float(e) for e in input().split()])\n",
        "  pos = peak_indexes(np.array(d))\n",
        "  if len(pos) > 0:\n",
        "    print(\", \".join([str(e) for e in pos]))\n",
        "  else:\n",
        "    print(\"No peaks\")\n",
        "exec(input().strip()) # Don't remove this line"
      ],
      "metadata": {
        "id": "uyIBrVnkOEq-",
        "colab": {
          "base_uri": "https://localhost:8080/"
        },
        "outputId": "158f49ad-b458-4428-8318-4506837cf68d"
      },
      "execution_count": null,
      "outputs": [
        {
          "output_type": "stream",
          "name": "stdout",
          "text": [
            "main()\n",
            "1 9 1 9 1 9 1 9 1 9 1\n",
            "1, 3, 5, 7, 9\n"
          ]
        }
      ]
    },
    {
      "cell_type": "markdown",
      "source": [
        "#NumPy_P4_★★_Book Sales"
      ],
      "metadata": {
        "id": "odfSgna_-xij"
      }
    },
    {
      "cell_type": "code",
      "source": [
        "x = [float(e) for e in input().split()]\n",
        "niyai = [float(e) for e in input().split()]\n",
        "sarakadi = [float(e) for e in input().split()]\n",
        "tongtiew = [float(e) for e in input().split()]\n",
        "cartoon = [float(e) for e in input().split()]\n",
        "mon_sum = 0\n",
        "tue_sum = 0\n",
        "wed_sum = 0\n",
        "thu_sum = 0\n",
        "fri_sum = 0\n",
        "mon_book = 0\n",
        "tue_book = 0\n",
        "wed_book = 0\n",
        "thu_book = 0\n",
        "fri_book = 0\n",
        "mon_sum += x[0]*niyai[0]+x[1]*sarakadi[0] + x[2]*tongtiew[0]+x[3]*cartoon[0]\n",
        "tue_sum += x[0]*niyai[1]+x[1]*sarakadi[1] + x[2]*tongtiew[1]+x[3]*cartoon[1]\n",
        "wed_sum += x[0]*niyai[2]+x[1]*sarakadi[2] + x[2]*tongtiew[2]+x[3]*cartoon[2]\n",
        "thu_sum += x[0]*niyai[3]+x[1]*sarakadi[3] + x[2]*tongtiew[3]+x[3]*cartoon[3]\n",
        "fri_sum += x[0]*niyai[4]+x[1]*sarakadi[4] + x[2]*tongtiew[4]+x[3]*cartoon[4]\n",
        "mon_book += niyai[0]+sarakadi[0] + tongtiew[0]+cartoon[0]\n",
        "tue_book += niyai[1]+sarakadi[1] + tongtiew[1]+cartoon[1]\n",
        "wed_book += niyai[2]+sarakadi[2] + tongtiew[2]+cartoon[2]\n",
        "thu_book += niyai[3]+sarakadi[3] + tongtiew[3]+cartoon[3]\n",
        "fri_book += niyai[4]+sarakadi[4] + tongtiew[4]+cartoon[4]\n",
        "out = [mon_sum, tue_sum, wed_sum, thu_sum, fri_sum]\n",
        "book = [mon_book, tue_book, wed_book, thu_book, fri_book]\n",
        "max_ = max(book)\n",
        "if book.index(max_) == 0:\n",
        "  print('Mon', max_)\n",
        "elif book.index(max_) == 1:\n",
        "  print('Tue', max_)\n",
        "elif book.index(max_) == 2:\n",
        "  print('Wed', max_)\n",
        "elif book.index(max_) == 3:\n",
        "  print('Thu', max_)\n",
        "elif book.index(max_) == 4:\n",
        "  print('Fri', max_)\n",
        "out = [str(e) for e in out]\n",
        "print(' '.join(out))"
      ],
      "metadata": {
        "colab": {
          "base_uri": "https://localhost:8080/"
        },
        "id": "CyWpH9aP-yen",
        "outputId": "1dcd8da3-4477-49c9-b0dd-1ab8f39c4d35"
      },
      "execution_count": null,
      "outputs": [
        {
          "output_type": "stream",
          "name": "stdout",
          "text": [
            "10 20 30 40\n",
            "0 0 1 0 0\n",
            "2 0 2 0 2\n",
            "3 1 0 0 0\n",
            "2 1 2 0 1\n",
            "Mon 7.0\n",
            "210.0, 70.0, 130.0, 0.0, 80.0\n"
          ]
        }
      ]
    },
    {
      "cell_type": "markdown",
      "source": [
        "#"
      ],
      "metadata": {
        "id": "XGjy2zN8ZxrD"
      }
    },
    {
      "cell_type": "code",
      "source": [
        "import numpy as np\n",
        "def read_height_weight():\n",
        "  list_hw = []\n",
        "  for k in range(int(input())) :\n",
        "    h,w = input().split()\n",
        "    list_hw.append((int(h),int(w)))\n",
        "  return np.array(list_hw)\n",
        "def cm_to_m(x):\n",
        "  a = x.copy()\n",
        "  a = a/100\n",
        "  return a\n",
        "def cal_bmi(hw):\n",
        "  m_ = cm_to_m(hw[:,0])\n",
        "  m_ = m_**2\n",
        "  h_ = hw[:,1]/m_\n",
        "  return h_\n",
        "def main():\n",
        "  hw = read_height_weight()\n",
        "  bmi = cal_bmi(hw)\n",
        "  avg_bmi = np.sum(bmi)/len(bmi)\n",
        "  count_underweight = np.sum(bmi<18.5)\n",
        "  print('average bmi =', avg_bmi)\n",
        "  print('#bmi < 18.5 =', count_underweight)\n",
        "exec(input().strip())"
      ],
      "metadata": {
        "colab": {
          "base_uri": "https://localhost:8080/"
        },
        "id": "8mwwfj8jZyYi",
        "outputId": "64df079d-32c9-4b63-ad95-186b7bdcc29d"
      },
      "execution_count": null,
      "outputs": [
        {
          "output_type": "stream",
          "name": "stdout",
          "text": [
            "main()\n",
            "4\n",
            "180 55\n",
            "170 54\n",
            "155 62\n",
            "160 60\n",
            "average bmi = 21.22609534053624\n",
            "#bmi < 18.5 = 1\n"
          ]
        }
      ]
    }
  ]
}
