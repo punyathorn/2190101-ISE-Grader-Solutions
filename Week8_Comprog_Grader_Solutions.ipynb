{
  "nbformat": 4,
  "nbformat_minor": 0,
  "metadata": {
    "colab": {
      "provenance": [],
      "gpuType": "T4",
      "authorship_tag": "ABX9TyOBOLUkbX/4t0A2WV6PvPk2"
    },
    "kernelspec": {
      "name": "python3",
      "display_name": "Python 3"
    },
    "language_info": {
      "name": "python"
    },
    "accelerator": "GPU"
  },
  "cells": [
    {
      "cell_type": "markdown",
      "source": [
        "#08_Dict_★_Reverse_n_Keys"
      ],
      "metadata": {
        "id": "YJBWndG2AaSN"
      }
    },
    {
      "cell_type": "code",
      "source": [
        "def reverse(d):\n",
        "  d_out = dict()\n",
        "  for a,b in d.items():\n",
        "    d_out[b] = a\n",
        "  return d_out\n",
        "def keys(d, v):\n",
        "  out = []\n",
        "  for a,b in d.items():\n",
        "    if b == v:\n",
        "      out.append(a)\n",
        "  return out\n",
        " # returns a list of keys in d (can be in any order) that\n",
        " # have a value of v\n",
        "exec(input().strip())"
      ],
      "metadata": {
        "colab": {
          "base_uri": "https://localhost:8080/"
        },
        "id": "9sA43XRGF4Pu",
        "outputId": "448a6f91-b1e6-4d06-8be8-c72840c1d2e0"
      },
      "execution_count": null,
      "outputs": [
        {
          "output_type": "stream",
          "name": "stdout",
          "text": [
            "print(keys({3:33, 4:33, 5:55, 2:33}, 33))\n",
            "[3, 4, 2]\n"
          ]
        }
      ]
    },
    {
      "cell_type": "markdown",
      "source": [
        "#08_Dict_★_Nicknames"
      ],
      "metadata": {
        "id": "dPRkRU-8HNyX"
      }
    },
    {
      "cell_type": "code",
      "source": [
        "data = dict()\n",
        "out = []\n",
        "num1 = int(input())\n",
        "for i in range(num1):\n",
        "  a = input().split(\" \")\n",
        "  if len(a) == 2 and a[0].isalpha() and a[1].isalpha():\n",
        "    data[a[0]] = a[1]\n",
        "\n",
        "num2 = int(input())\n",
        "for i in range(num2):\n",
        "  out = 0\n",
        "  b = input()\n",
        "  if not b.isalpha():\n",
        "      print('Not found')\n",
        "      continue\n",
        "  if b in data.keys():\n",
        "      print(data[b])\n",
        "  elif b in data.values():\n",
        "      for k,v in data.items():\n",
        "          if b == v:\n",
        "              print(k)\n",
        "              out = 1\n",
        "              break\n",
        "  elif out == 0:\n",
        "      print('Not found')\n",
        "\n",
        ""
      ],
      "metadata": {
        "id": "UojmsvEEHN-P"
      },
      "execution_count": null,
      "outputs": []
    },
    {
      "cell_type": "markdown",
      "source": [
        "#08_Dict_★★_Char_Count"
      ],
      "metadata": {
        "id": "nWujQbRNMvKZ"
      }
    },
    {
      "cell_type": "code",
      "source": [
        "a_in = input().lower()\n",
        "alpha = 'abcdefghijklmnopqrstuvwxyz'\n",
        "d = {}\n",
        "for al in alpha:\n",
        "    d[al] = 0\n",
        "for l in a_in:\n",
        "    if l in alpha:\n",
        "        d[l] += 1\n",
        "\n",
        "sorted_items = sorted(d.items(), key=lambda kv: (-kv[1], kv[0]))\n",
        "\n",
        "for i in sorted_items:\n",
        "    k,v = i\n",
        "    if v != 0:\n",
        "        print(f'{k} -> {v}')"
      ],
      "metadata": {
        "colab": {
          "base_uri": "https://localhost:8080/"
        },
        "id": "_kZYBxPjMvdI",
        "outputId": "b8472415-50c5-4dad-e224-3cb6af390846"
      },
      "execution_count": null,
      "outputs": [
        {
          "output_type": "stream",
          "name": "stdout",
          "text": [
            "AaBbbbbbbCcDddd\n",
            "Dictionary {'a': 2, 'b': 7, 'c': 2, 'd': 4, 'e': 0, 'f': 0, 'g': 0, 'h': 0, 'i': 0, 'j': 0, 'k': 0, 'l': 0, 'm': 0, 'n': 0, 'o': 0, 'p': 0, 'q': 0, 'r': 0, 's': 0, 't': 0, 'u': 0, 'v': 0, 'w': 0, 'x': 0, 'y': 0, 'z': 0}\n",
            "[('b', 7), ('d', 4), ('a', 2), ('c', 2), ('e', 0), ('f', 0), ('g', 0), ('h', 0), ('i', 0), ('j', 0), ('k', 0), ('l', 0), ('m', 0), ('n', 0), ('o', 0), ('p', 0), ('q', 0), ('r', 0), ('s', 0), ('t', 0), ('u', 0), ('v', 0), ('w', 0), ('x', 0), ('y', 0), ('z', 0)]\n",
            "b -> 7\n",
            "d -> 4\n",
            "a -> 2\n",
            "c -> 2\n"
          ]
        }
      ]
    },
    {
      "cell_type": "markdown",
      "source": [
        "#08_​Dict_​★★_​Ice_​Cream_​Sales"
      ],
      "metadata": {
        "id": "tYY7__2xSuLL"
      }
    },
    {
      "cell_type": "code",
      "source": [
        "data = dict()\n",
        "total_sum = 0\n",
        "sales = dict()\n",
        "num1 = int(input())\n",
        "out = []\n",
        "for i in range(num1):\n",
        "  a = input().split()\n",
        "  data[a[0]] = float(a[1])\n",
        "  sales[a[0]] = 0\n",
        "\n",
        "num2 = int(input())\n",
        "for i in range(num2):\n",
        "  b,c = input().split()\n",
        "  c = float(c)\n",
        "  if b in data.keys():\n",
        "      total_sum += c*data[b]\n",
        "      sales[b] += c*data[b]\n",
        "if total_sum == 0:\n",
        "    print('No ice cream sales')\n",
        "    exit()\n",
        "print('Total ice cream sales: '+str(total_sum))\n",
        "sorted_items = sorted(sales.items(), key=lambda kv: (-kv[1], kv[0]))\n",
        "for k,v in sorted_items:\n",
        "    if v == sorted_items[0][1]:\n",
        "        out.append(k)\n",
        "\n",
        "print('Top sales: '+', '.join(out))"
      ],
      "metadata": {
        "id": "s8z19_4MSuii"
      },
      "execution_count": null,
      "outputs": []
    },
    {
      "cell_type": "markdown",
      "source": [
        "#08_​Dict_​★★_​Telephone_​Directory"
      ],
      "metadata": {
        "id": "qGX1f4MqX-7U"
      }
    },
    {
      "cell_type": "code",
      "source": [
        "data = dict()\n",
        "out = []\n",
        "num1 = int(input())\n",
        "for i in range(num1):\n",
        "  a = input().split()\n",
        "  data[f'{a[0]} {a[1]}'] = a[2]\n",
        "num2 = int(input())\n",
        "\n",
        "for i in range(num2):\n",
        "  b = input().split()\n",
        "  if len(b) == 1:\n",
        "      out1 = 0\n",
        "      if b[0] in data.values():\n",
        "          for k,v in data.items():\n",
        "              if b[0] == v:\n",
        "                  print(f'{b[0]} --> {k}')\n",
        "                  out1 += 1\n",
        "                  break\n",
        "          if out1 == 0:\n",
        "              print(f'{b[0]} --> Not found')\n",
        "      else:\n",
        "          print(f'{b[0]} --> Not found')\n",
        "  elif len(b) == 2:\n",
        "        target = f'{b[0]} {b[1]}'\n",
        "        if target in data.keys():\n",
        "            print(f'{target} --> {data[target]}')\n",
        "        else:\n",
        "            print(f'{target} --> Not found')\n"
      ],
      "metadata": {
        "id": "9xMbdJpiX-kt"
      },
      "execution_count": null,
      "outputs": []
    },
    {
      "cell_type": "markdown",
      "source": [
        "#08_​Dict_​★★_​Texting"
      ],
      "metadata": {
        "id": "dJ7dFFKUYD00"
      }
    },
    {
      "cell_type": "code",
      "source": [
        "base1 = {2:'a',22:'b',222:'c',\n",
        "        3:'d',33:'e',333:'f',\n",
        "        4:'g',44:'h',444:'i',\n",
        "        5:'j',55:'k',555:'l',\n",
        "        6:'m',66:'n',666:'o',\n",
        "        7:'p',77:'q',777:'r',7777:'s',\n",
        "        8:'t',88:'u',888:'v',\n",
        "        9:'w',99:'x',999:'y',9999:'z'}\n",
        "base2 = {'a': 2, 'b': 22, 'c': 222, 'd': 3, 'e': 33, 'f': 333, 'g': 4, 'h': 44, 'i': 444, 'j': 5, 'k': 55, 'l': 555, 'm': 6, 'n': 66, 'o': 666, 'p': 7, 'q': 77, 'r': 777, 's': 7777, 't': 8, 'u': 88, 'v': 888, 'w': 9, 'x': 99, 'y':999, 'z': 9999}\n",
        "def text2keys(text):\n",
        "    out = []\n",
        "    for l in text:\n",
        "        l = l.lower()\n",
        "        if l == ' ':\n",
        "            out.append('0')\n",
        "        if l in base2.keys():\n",
        "            out.append(str(base2[l]))\n",
        "    return ' '.join(out)\n",
        "def keys2text(keys):\n",
        "    out = ''\n",
        "    a = keys.split()\n",
        "    for l in a:\n",
        "        l = int(l)\n",
        "        if l == 0:\n",
        "            out += ' '\n",
        "        if l in base1.keys():\n",
        "            out += str(base1[l])\n",
        "    return out\n",
        "exec(input().strip())\n",
        "\n"
      ],
      "metadata": {
        "id": "sLwxeTWpYEF8"
      },
      "execution_count": null,
      "outputs": []
    },
    {
      "cell_type": "markdown",
      "source": [
        "#08_Dict_★★★_Cash"
      ],
      "metadata": {
        "id": "BxfC6FwXgxrH"
      }
    },
    {
      "cell_type": "code",
      "source": [
        "def total(pocket):\n",
        "  t = 0\n",
        "  for k,v in pocket.items():\n",
        "    t += k*v\n",
        "  return t\n",
        "def take(pocket, money_in):\n",
        "  for k,v in money_in.items():\n",
        "    if k not in pocket.keys():\n",
        "      pocket[k] = 0\n",
        "    pocket[k] += v\n",
        "\n",
        "def pay(pocket, amt):\n",
        "  t=0\n",
        "  pocket2 = pocket.copy()\n",
        "  paid = dict()\n",
        "  for k, v in pocket2.items():\n",
        "    t += k*v\n",
        "  if amt > t:\n",
        "    return {}\n",
        "  else:\n",
        "    for k,v in pocket2.items():\n",
        "      paid[k] = 0\n",
        "      while (k <= amt and pocket2[k] > 0):\n",
        "        pocket2[k] -= 1\n",
        "        paid[k] += 1\n",
        "        amt -= k\n",
        "    if amt > 0:\n",
        "      del pocket2\n",
        "      return {}\n",
        "  del_keys = []\n",
        "  for k,v in paid.items():\n",
        "    if v == 0:\n",
        "      del_keys.append(k)\n",
        "  for d in del_keys:\n",
        "    del paid[d]\n",
        "  pocket.update(pocket2)\n",
        "  del pocket2\n",
        "  return paid\n",
        "\n",
        "\n",
        "exec(input().strip())"
      ],
      "metadata": {
        "id": "904NeXQzgx_f",
        "colab": {
          "base_uri": "https://localhost:8080/"
        },
        "outputId": "230f18c3-f283-4e97-8f0c-649effa15c86"
      },
      "execution_count": null,
      "outputs": [
        {
          "output_type": "stream",
          "name": "stdout",
          "text": [
            "exec(\"def _a(p):\\n print([(k,v) for k,v in sorted(p.items())])\\np={100:3, 10:5, 5:10, 1:7};_a(pay(p, 68));_a(p)\")\n",
            "[(1, 3), (5, 3), (10, 5)]\n",
            "[(1, 4), (5, 7), (10, 0), (100, 3)]\n"
          ]
        }
      ]
    },
    {
      "cell_type": "code",
      "source": [],
      "metadata": {
        "id": "7PJtALPkc10D"
      },
      "execution_count": null,
      "outputs": []
    }
  ]
}