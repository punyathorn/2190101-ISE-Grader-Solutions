{
  "nbformat": 4,
  "nbformat_minor": 0,
  "metadata": {
    "colab": {
      "provenance": [],
      "gpuType": "T4",
      "authorship_tag": "ABX9TyPv1W+nv/agBPwGS4UjFI9R"
    },
    "kernelspec": {
      "name": "python3",
      "display_name": "Python 3"
    },
    "language_info": {
      "name": "python"
    }
  },
  "cells": [
    {
      "cell_type": "markdown",
      "source": [
        "# 01_​Expr_​★_​Stirling_​Factorial"
      ],
      "metadata": {
        "id": "mps-Pvnb9wZc"
      }
    },
    {
      "cell_type": "code",
      "execution_count": null,
      "metadata": {
        "colab": {
          "base_uri": "https://localhost:8080/"
        },
        "id": "VAN9aPSb4nMJ",
        "outputId": "113c96a3-ce72-4c08-d416-60dd730b1e5e"
      },
      "outputs": [
        {
          "output_type": "stream",
          "name": "stdout",
          "text": [
            "100\n",
            "9.332615094728949e+157\n",
            "9.332621570317617e+157\n"
          ]
        }
      ],
      "source": [
        "import math as m\n",
        "n = int(input(\"\"))\n",
        "lowerbound = m.sqrt(2*m.pi) * (n**(n+1/2)) * (m.exp((-n+(1 / (12*n+1)))))\n",
        "upperbound = m.sqrt(2*m.pi) * (n**(n+1/2)) * (m.exp((-n+(1 / (12*n)))))\n",
        "print(lowerbound)\n",
        "print(upperbound)"
      ]
    },
    {
      "cell_type": "markdown",
      "source": [
        "# 01_​Expr_​★_​Quadratic_​Root"
      ],
      "metadata": {
        "id": "Iuf6eSaB9ug8"
      }
    },
    {
      "cell_type": "code",
      "source": [
        "import math as m\n",
        "a = float(input(\"\"))\n",
        "b = float(input(\"\"))\n",
        "c = float(input(\"\"))\n",
        "x1 = (-b-m.sqrt(b**2 - 4*a*c))/(2*a)\n",
        "x2 = (-b+m.sqrt(b**2 - 4*a*c))/(2*a)\n",
        "print(f\"{round(x1,3)} {round(x2,3)}\")"
      ],
      "metadata": {
        "id": "qCVunZi7-Cy8"
      },
      "execution_count": null,
      "outputs": []
    },
    {
      "cell_type": "markdown",
      "source": [
        "# 01_​Expr_​★★_​An_​Expression"
      ],
      "metadata": {
        "id": "iIIQcU9A-EZc"
      }
    },
    {
      "cell_type": "code",
      "source": [
        "import math as m\n",
        "n = (m.pi - (m.factorial(10)/(8**8)) + ((m.log(9.7))**((7/m.sqrt(71))-m.sin(m.radians(40)))))/((1.2)**((2.3)**(1.0/3.0)))\n",
        "print(round(n,6))"
      ],
      "metadata": {
        "id": "_4hk8M3k-Jt8",
        "colab": {
          "base_uri": "https://localhost:8080/"
        },
        "outputId": "e9ff8300-b8cb-4f8c-ed59-1ae418f026e5"
      },
      "execution_count": null,
      "outputs": [
        {
          "output_type": "stream",
          "name": "stdout",
          "text": [
            "3.216814\n"
          ]
        }
      ]
    },
    {
      "cell_type": "markdown",
      "source": [
        "# 01_​Expr_​★★_​Body_​Surface_​Area"
      ],
      "metadata": {
        "id": "IZyGeDzNwva8"
      }
    },
    {
      "cell_type": "code",
      "source": [
        "import math as m\n",
        "w = float(input(\"\"))\n",
        "h = float(input(\"\"))\n",
        "mo = m.sqrt(w*h)/60\n",
        "ha = 0.024265*(w**0.5378)*(h**0.3964)\n",
        "bo = 0.0333*(w**(0.6157-0.0188*m.log10(w)))*(h**0.3)\n",
        "print(mo)\n",
        "print(ha)\n",
        "print(bo)"
      ],
      "metadata": {
        "colab": {
          "base_uri": "https://localhost:8080/"
        },
        "id": "JIoM4qlXoiJI",
        "outputId": "ef5bd7d1-b983-480d-9cdf-9134cb3d224e"
      },
      "execution_count": null,
      "outputs": [
        {
          "output_type": "stream",
          "name": "stdout",
          "text": [
            "80.0\n",
            "150.0\n",
            "1.8257418583505538\n",
            "1.8666576124395382\n",
            "1.9007070607658065\n"
          ]
        }
      ]
    },
    {
      "cell_type": "markdown",
      "source": [
        "# 01-Expr_★★_Cubic_Equation"
      ],
      "metadata": {
        "id": "wMoV6J_1RGZb"
      }
    },
    {
      "cell_type": "code",
      "source": [
        "import math as m\n",
        "text = input(\"\")\n",
        "text = text.split(\" \")\n",
        "a = float(text[0])\n",
        "b = float(text[1])\n",
        "c = float(text[2])\n",
        "d = float(text[3])\n",
        "j = float(2*(b**3) - 9*a*b*c +27*(a**2)*d)\n",
        "k = float(4*(((b**2)-(3*a*c))**3))\n",
        "inner1 = (1/2)*(j+m.sqrt((j**2)-k))\n",
        "inner2 = (1/2)*(j-m.sqrt((j**2)-k))\n",
        "x = (-b/(3*a)) - (1/(3*a))*((inner1)**(1./3.)) - (1/(3*a))*((inner2)**(1./3.))\n",
        "print(round(x,3))"
      ],
      "metadata": {
        "colab": {
          "base_uri": "https://localhost:8080/"
        },
        "id": "MQHhTki0yOxi",
        "outputId": "9d8aa2fa-4ca6-4d20-8df1-f0e12047085c"
      },
      "execution_count": null,
      "outputs": [
        {
          "output_type": "stream",
          "name": "stdout",
          "text": [
            "1.0 0 0 1\n",
            "-1.0\n"
          ]
        }
      ]
    },
    {
      "cell_type": "markdown",
      "source": [
        "#01_​Expr_​★★★_​Duration"
      ],
      "metadata": {
        "id": "pSo1GVaSZUit"
      }
    },
    {
      "cell_type": "code",
      "source": [
        "h1 = int(input())\n",
        "m1 = int(input())\n",
        "s1 = int(input())\n",
        "h2 = int(input())\n",
        "m2 = int(input())\n",
        "s2 = int(input())\n",
        "t1 = h1*60*60 + m1*60 + s1\n",
        "t2 = h2*60*60 + m2*60 + s2\n",
        "if t1>t2:\n",
        "    t2+=24*60*60\n",
        "dt = t2 - t1\n",
        "dh = dt // (60*60)\n",
        "dt -= dh * 60*60\n",
        "dm = dt // 60\n",
        "dt -= dm*60\n",
        "ds = dt\n",
        "print(str(dh)+\":\"+str(dm)+\":\"+str(ds))"
      ],
      "metadata": {
        "id": "Z13-fCNJRVFg",
        "colab": {
          "base_uri": "https://localhost:8080/"
        },
        "outputId": "b482ffee-cd04-4524-97c3-da73bda25bb5"
      },
      "execution_count": null,
      "outputs": [
        {
          "output_type": "stream",
          "name": "stdout",
          "text": [
            "2\n",
            "10\n",
            "20\n",
            "3\n",
            "0\n",
            "0\n",
            "0:49:40\n"
          ]
        }
      ]
    },
    {
      "cell_type": "markdown",
      "source": [
        "#00_Intro_★_Hello"
      ],
      "metadata": {
        "id": "XmZk1wiPio93"
      }
    },
    {
      "cell_type": "code",
      "source": [
        "print(\"Hello Python.\")\n",
        "print(\"We're using Python 3.\")"
      ],
      "metadata": {
        "id": "ZuSfpE1Q38uB",
        "colab": {
          "base_uri": "https://localhost:8080/"
        },
        "outputId": "245d31fa-c331-44ec-f54d-2cda217bfd4d"
      },
      "execution_count": null,
      "outputs": [
        {
          "output_type": "stream",
          "name": "stdout",
          "text": [
            "Hello Python.\n",
            "We're using Python 3.\n"
          ]
        }
      ]
    },
    {
      "cell_type": "markdown",
      "source": [
        "#00_Intro_★_Big_Numbers"
      ],
      "metadata": {
        "id": "1iAZdx3Ui9EJ"
      }
    },
    {
      "cell_type": "code",
      "source": [
        "a = 2938402734091273094162387451928736401926340971234\n",
        "b = 9208209384928743098273495872039847509273497\n",
        "print(a)\n",
        "print(\"+\")\n",
        "print(b)\n",
        "print(\"=\")\n",
        "print(a+b)"
      ],
      "metadata": {
        "colab": {
          "base_uri": "https://localhost:8080/"
        },
        "id": "UIJJlRoZi19A",
        "outputId": "b1606751-993f-41af-a654-61590b65fc95"
      },
      "execution_count": null,
      "outputs": [
        {
          "output_type": "stream",
          "name": "stdout",
          "text": [
            "2938402734091273094162387451928736401926340971234\n",
            "+\n",
            "9208209384928743098273495872039847509273497\n",
            "=\n",
            "2938411942300658022905485725424608441773850244731\n"
          ]
        }
      ]
    },
    {
      "cell_type": "markdown",
      "source": [
        "#00_​Intro_​★_​Mountain_​Valley"
      ],
      "metadata": {
        "id": "yIOXqEh0epjD"
      }
    },
    {
      "cell_type": "markdown",
      "source": [
        "```\n",
        "+------------------------------------------+\n",
        "|................................/\\........|\n",
        "|.............................../##\\.......|\n",
        "|............................../####\\......|\n",
        "|............................./######\\.....|\n",
        "|............................/########\\....|\n",
        "|.......__................../##########\\...|\n",
        "|....../##\\................/############\\..|\n",
        "|./\\../####\\......../\\..../##############\\.|\n",
        "|/##\\/######\\....../##\\../################\\|\n",
        "|############\\..../####\\/##################|\n",
        "|#############\\__/#########################|\n",
        "+------------------------------------------+\n",
        "```"
      ],
      "metadata": {
        "id": "QZoGFwb0etN7"
      }
    },
    {
      "cell_type": "code",
      "source": [
        "print(\"+------------------------------------------+\")\n",
        "print(\"|................................/\\\\........|\")\n",
        "print(\"|.............................../##\\\\.......|\")\n",
        "print(\"|............................../####\\\\......|\")\n",
        "print(\"|............................./######\\\\.....|\")\n",
        "print(\"|............................/########\\\\....|\")\n",
        "print(\"|.......__................../##########\\\\...|\")\n",
        "print(\"|....../##\\\\................/############\\\\..|\")\n",
        "print(\"|./\\\\../####\\\\......../\\\\..../##############\\\\.|\")\n",
        "print(\"|/##\\\\/######\\\\....../##\\\\../################\\\\|\")\n",
        "print(\"|############\\\\..../####\\\\/##################|\")\n",
        "print(\"|#############\\\\__/#########################|\")\n",
        "print(\"+------------------------------------------+\")\n"
      ],
      "metadata": {
        "colab": {
          "base_uri": "https://localhost:8080/"
        },
        "id": "VgRcsJWkjMuW",
        "outputId": "71a5512b-f616-4100-ab53-0d5b117cd585"
      },
      "execution_count": null,
      "outputs": [
        {
          "output_type": "stream",
          "name": "stdout",
          "text": [
            "+------------------------------------------+\n",
            "|................................/\\........|\n",
            "|.............................../##\\.......|\n",
            "|............................../####\\......|\n",
            "|............................./######\\.....|\n",
            "|............................/########\\....|\n",
            "|.......__................../##########\\...|\n",
            "|....../##\\................/############\\..|\n",
            "|./\\../####\\......../\\..../##############\\.|\n",
            "|/##\\/######\\....../##\\../################\\|\n",
            "|############\\..../####\\/##################|\n",
            "|#############\\__/#########################|\n",
            "+------------------------------------------+\n"
          ]
        }
      ]
    },
    {
      "cell_type": "code",
      "source": [
        "import math as m\n",
        "a,b,c,d = input(\"please input 4 numbers\").split()\n",
        "print(a,b,c,d)"
      ],
      "metadata": {
        "id": "0bfZ1t2XkwLu",
        "colab": {
          "base_uri": "https://localhost:8080/"
        },
        "outputId": "c967654f-f5d6-479c-b0b6-a4b8f02dcae8"
      },
      "execution_count": null,
      "outputs": [
        {
          "output_type": "stream",
          "name": "stdout",
          "text": [
            "please input 4 numbers1 0 0 1\n",
            "1 0 0 1\n"
          ]
        }
      ]
    },
    {
      "cell_type": "code",
      "source": [],
      "metadata": {
        "id": "IwbphFrzxT-C"
      },
      "execution_count": null,
      "outputs": []
    }
  ]
}
