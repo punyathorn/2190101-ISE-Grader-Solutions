{
  "nbformat": 4,
  "nbformat_minor": 0,
  "metadata": {
    "colab": {
      "provenance": [],
      "gpuType": "T4",
      "authorship_tag": "ABX9TyOE81YukFCLs5M8Fq+IAtPJ"
    },
    "kernelspec": {
      "name": "python3",
      "display_name": "Python 3"
    },
    "language_info": {
      "name": "python"
    },
    "accelerator": "GPU"
  },
  "cells": [
    {
      "cell_type": "markdown",
      "source": [
        "#10_TSD_★_Union Intersection"
      ],
      "metadata": {
        "id": "YrSTgBKJd47c"
      }
    },
    {
      "cell_type": "code",
      "source": [
        "n = int(input())\n",
        "x = []\n",
        "b = {}\n",
        "c = {}\n",
        "for i in range(n):\n",
        "  a = input().split()\n",
        "  x.append(set(a))\n",
        "#b = x[0].union(x[1])\n",
        "for i in range(len(x)):\n",
        "  if i == 0:\n",
        "    b = x[0]\n",
        "  else:\n",
        "    b = b.union(x[i])\n",
        "print(len(b))\n",
        "for i in range(len(x)):\n",
        "  if i == 0:\n",
        "    c = x[0]\n",
        "  else:\n",
        "    c = c.intersection(x[i])\n",
        "print(len(c))"
      ],
      "metadata": {
        "colab": {
          "base_uri": "https://localhost:8080/"
        },
        "id": "c4EiyCjed5XF",
        "outputId": "cf7de275-0ffd-464c-813c-8838c475d104"
      },
      "execution_count": null,
      "outputs": [
        {
          "output_type": "stream",
          "name": "stdout",
          "text": [
            "3\n",
            "1 2 1 2 3 1 2 1 2 1\n",
            "2 3\n",
            "2 5 4 3\n",
            "5\n",
            "{'3', '1', '2'}\n",
            "{'3', '2'}\n",
            "{'3', '2'}\n",
            "2\n"
          ]
        }
      ]
    },
    {
      "cell_type": "markdown",
      "source": [
        "#10_TSD_★_Winner"
      ],
      "metadata": {
        "id": "zdl33WUkoGL1"
      }
    },
    {
      "cell_type": "code",
      "source": [
        "n = int(input())\n",
        "win = []\n",
        "los = []\n",
        "nev_los = []\n",
        "for i in range(n):\n",
        "  a,b = input().split()\n",
        "  win.append(a)\n",
        "  los.append(b)\n",
        "for t in win:\n",
        "  if t not in los and t not in nev_los:\n",
        "    nev_los.append(t)\n",
        "print(sorted(nev_los))"
      ],
      "metadata": {
        "colab": {
          "base_uri": "https://localhost:8080/"
        },
        "id": "2rMTk_OGoFqy",
        "outputId": "8e1b0db2-aeaa-41bc-debb-a5224aaa9ffa"
      },
      "execution_count": null,
      "outputs": [
        {
          "output_type": "stream",
          "name": "stdout",
          "text": [
            "4\n",
            "Arsenal ManCity\n",
            "Arsenal Everton\n",
            "Arsenal Tottenham\n",
            "ManCity Arsenal\n",
            "[]\n"
          ]
        }
      ]
    },
    {
      "cell_type": "markdown",
      "source": [
        "#10_TSD_★★_GenreTotalPlaytime"
      ],
      "metadata": {
        "id": "4-6hMYvwqEbt"
      }
    },
    {
      "cell_type": "code",
      "source": [
        "n = int(input())\n",
        "m = {}\n",
        "s_m = {}\n",
        "for i in range(n):\n",
        "  a = input().split(',')\n",
        "  genre = a[2].strip()\n",
        "  time = a[3].strip()\n",
        "  min, sec = time.split(':')\n",
        "  t_sec = int(min)*60 + int(sec)\n",
        "  if genre not in m.keys():\n",
        "    m[genre] = t_sec\n",
        "  else:\n",
        "    m[genre] += t_sec\n",
        "\n",
        "s_m = dict(sorted(m.items(), key=lambda item: item[1], reverse=True))\n",
        "\n",
        "for key in s_m.keys():\n",
        "  min = str(s_m[key]//60)\n",
        "  sec = str(s_m[key] - 60*(s_m[key]//60))\n",
        "  if len(sec) == 1:\n",
        "    sec = '0'+sec\n",
        "  s_m[key] = min + ':' + sec\n",
        "\n",
        "s_m_l = []\n",
        "for k in s_m.keys():\n",
        "  s_m_l.append(k)\n",
        "for i in range(len(s_m_l)):\n",
        "  if i <= 2:\n",
        "    print(s_m_l[i]+' --> '+s_m[s_m_l[i]])"
      ],
      "metadata": {
        "colab": {
          "base_uri": "https://localhost:8080/"
        },
        "id": "ncO6LZ6oqFL1",
        "outputId": "3e3cdc94-9e98-48ab-acc7-7803a27b480c"
      },
      "execution_count": null,
      "outputs": [
        {
          "output_type": "stream",
          "name": "stdout",
          "text": [
            "9\n",
            "C, K, Country, 4:02\n",
            "B, Q,Rock, 5:55\n",
            "H, L, Jazz, 2:27\n",
            "W, Q, Rock, 2:59\n",
            "H, E, Rock, 6:30\n",
            "R, K, Pop, 3:42\n",
            "C, S, Pop, 3:36\n",
            "R, A, Pop, 3:48\n",
            "S, T, Pop, 3:39\n",
            "['Rock', 'Pop', 'Country', 'Jazz']\n",
            "Rock --> 15:24\n",
            "Pop --> 14:45\n",
            "Country --> 4:02\n"
          ]
        }
      ]
    },
    {
      "cell_type": "code",
      "source": [
        "C, K, Country, 4:02\n",
        "B, Q,Rock, 5:55\n",
        "H, L, Jazz, 2:27\n",
        "W, Q, Rock, 2:59\n",
        "H, E, Rock, 6:30\n",
        "R, K, Pop, 3:42\n",
        "C, S, Pop, 3:36\n",
        "R, A, Pop, 3:48\n",
        "S, T, Pop, 3:39"
      ],
      "metadata": {
        "id": "sUcTdfpSqUUH"
      },
      "execution_count": null,
      "outputs": []
    },
    {
      "cell_type": "markdown",
      "source": [
        "#10_TSD_★★_Cartoon"
      ],
      "metadata": {
        "id": "zuFcEeyS-5NO"
      }
    },
    {
      "cell_type": "code",
      "source": [
        "out = {}\n",
        "while True:\n",
        "  a = input()\n",
        "  if a == 'q':\n",
        "    break\n",
        "  b,c = a.split(',')\n",
        "  c = c.strip()\n",
        "  if c not in out.keys():\n",
        "    out[c] = [b]\n",
        "  else:\n",
        "    out[c].append(b)\n",
        "\n",
        "for k in out.keys():\n",
        "  outout = ', '.join(out[k])\n",
        "  print(f'{k}: '+outout)"
      ],
      "metadata": {
        "id": "IRMC5p7Xw7Ml",
        "colab": {
          "base_uri": "https://localhost:8080/"
        },
        "outputId": "fff85f15-5055-4d56-9ebb-f23fdcc95155"
      },
      "execution_count": null,
      "outputs": [
        {
          "output_type": "stream",
          "name": "stdout",
          "text": [
            "Ted, bear\n",
            "Pongo, dog\n",
            "Fozzie, bear\n",
            "Winnie-the-pooh, bear\n",
            "Nana, dog\n",
            "Hello Kitty, cat\n",
            "Scooby Doo, dog\n",
            "Garfield, cat\n",
            "Yogi, bear\n",
            "Tom, cat\n",
            "Sylvester, cat\n",
            "Pluto, dog\n",
            "Goofy, dog\n",
            "q\n",
            "{'bear': ['Ted', 'Fozzie', 'Winnie-the-pooh', 'Yogi'], 'dog': ['Pongo', 'Nana', 'Scooby Doo', 'Pluto', 'Goofy'], 'cat': ['Hello Kitty', 'Garfield', 'Tom', 'Sylvester']}\n",
            "bear: Ted, Fozzie, Winnie-the-pooh, Yogi\n",
            "dog: Pongo, Nana, Scooby Doo, Pluto, Goofy\n",
            "cat: Hello Kitty, Garfield, Tom, Sylvester\n"
          ]
        }
      ]
    },
    {
      "cell_type": "markdown",
      "source": [
        "#10_TSD_★★_Location Analysis"
      ],
      "metadata": {
        "id": "9CxUCLALBSgx"
      }
    },
    {
      "cell_type": "code",
      "source": [
        "n = int(input())\n",
        "out = {}\n",
        "outbout = []\n",
        "for i in range(n):\n",
        "  a,b = input().split(':')\n",
        "  b = b.split(',')\n",
        "  b = [e.strip() for e in b]\n",
        "  out[a] = b\n",
        "n2 = input()\n",
        "target = out[n2]\n",
        "for v in out.values():\n",
        "    for city in target:\n",
        "      if city in v and v != target and v not in outbout:\n",
        "        outbout.append(v)\n",
        "\n",
        "if len(outbout) != 0:\n",
        "  for o in outbout:\n",
        "    for k in out.keys():\n",
        "      if o == out[k]:\n",
        "        print(k)\n",
        "else:\n",
        "  print('Not Found')"
      ],
      "metadata": {
        "colab": {
          "base_uri": "https://localhost:8080/"
        },
        "id": "wFlqLMf4_rwE",
        "outputId": "ce435873-3bd6-4899-f056-28708f3dc47d"
      },
      "execution_count": null,
      "outputs": [
        {
          "output_type": "stream",
          "name": "stdout",
          "text": [
            "6\n",
            "51234621: A, B, D, E, F\n",
            "427613829: B, D, G, H, I\n",
            "38216542: Z, B, D, J\n",
            "423212822: AA, B1, C3, D\n",
            "4126548: J, Z3\n",
            "98871973331: Q, M, N\n",
            "423212822\n",
            "['A', 'B', 'D', 'E', 'F']\n",
            "['B', 'D', 'G', 'H', 'I']\n",
            "['Z', 'B', 'D', 'J']\n",
            "[['A', 'B', 'D', 'E', 'F'], ['B', 'D', 'G', 'H', 'I'], ['Z', 'B', 'D', 'J']]\n",
            "51234621\n",
            "427613829\n",
            "38216542\n"
          ]
        }
      ]
    },
    {
      "cell_type": "markdown",
      "source": [
        "#10_TSD_★★_Celebrity"
      ],
      "metadata": {
        "id": "-lYJgX2EDCEZ"
      }
    },
    {
      "cell_type": "code",
      "source": [
        "def knows(R,x,y):\n",
        "  if y in R[x]:\n",
        "    return True\n",
        "  return False\n",
        "\n",
        "def is_celeb(R,x):\n",
        "  if len(R[x]) > 1:\n",
        "    return False\n",
        "  if len(R[x]) == 1 and x not in R[x]:\n",
        "    return False\n",
        "  for k in R.keys():\n",
        "    if x not in R[k] and x != k:\n",
        "      return False\n",
        "  return True\n",
        "\n",
        "\n",
        "def find_celeb(R):\n",
        "  for x in R.keys():\n",
        "    if is_celeb(R,x) == True:\n",
        "      return x\n",
        "  return None\n",
        "\n",
        "def read_relations():\n",
        "  R = dict()\n",
        "  while True:\n",
        "    d = input().split()\n",
        "    if len (d) == 1 : break\n",
        "    if d[0] not in R.keys():\n",
        "      R[d[0]] = set()\n",
        "      R[d[0]].add(d[1])\n",
        "    else:\n",
        "      R[d[0]].add(d[1])\n",
        "    if d[1] not in R.keys():\n",
        "      R[d[1]] = set()\n",
        "  return R\n",
        "\n",
        "def main():\n",
        "  R = read_relations()\n",
        "  c= find_celeb(R)\n",
        "  if c == None:\n",
        "    print('Not Found')\n",
        "  else:\n",
        "    print(c)\n",
        "exec(input().strip())"
      ],
      "metadata": {
        "id": "bS1gRX45BqVI",
        "colab": {
          "base_uri": "https://localhost:8080/"
        },
        "outputId": "347d3633-8435-4a23-f6a1-364d0f133e83"
      },
      "execution_count": null,
      "outputs": [
        {
          "output_type": "stream",
          "name": "stdout",
          "text": [
            "main()\n",
            "Ploy Pat\n",
            "Ploy Boy\n",
            "Eak Pat\n",
            "Boy Pat\n",
            "Poom Pat\n",
            "Boy Eak\n",
            "Noo-sa Tim\n",
            "q\n",
            "Not Found\n"
          ]
        }
      ]
    },
    {
      "cell_type": "markdown",
      "source": [
        "#10_TSD_★★★_Polynomial"
      ],
      "metadata": {
        "id": "oSJf15z7Z06z"
      }
    },
    {
      "cell_type": "code",
      "source": [
        "def add_poly(p1,p2):\n",
        "  out = []\n",
        "  outout = []\n",
        "  set_p1 = set()\n",
        "  set_p2 = set()\n",
        "  if len(p1) > 0 and len(p2) > 0:\n",
        "    for a in p1:\n",
        "      for b in p2:\n",
        "        if a[1] == b[1] and a[0]+b[0] != 0:\n",
        "          outout.append((a[0]+b[0],a[1]))\n",
        "        set_p2.add(b[1])\n",
        "      set_p1.add(a[1])\n",
        "    p1_a_p2 = set_p1.intersection(set_p2)\n",
        "    set_p1_c = set_p1.difference(p1_a_p2)\n",
        "    set_p2_c = set_p2.difference(p1_a_p2)\n",
        "    for c in p1:\n",
        "      for d in set_p1_c:\n",
        "        if c[1] == d:\n",
        "          outout.append(c)\n",
        "    for e in p2:\n",
        "      for f in set_p2_c:\n",
        "        if e[1] == f:\n",
        "          outout.append(e)\n",
        "  else:\n",
        "    outout = p1 + p2\n",
        "  reverse_outout = []\n",
        "  for a in outout:\n",
        "    reverse_outout.append((a[1],a[0]))\n",
        "  reverse_outout.sort(reverse=True)\n",
        "\n",
        "  for a in reverse_outout:\n",
        "    out.append((a[1],a[0]))\n",
        "  return out\n",
        "\n",
        "def mult_poly(p1,p2):\n",
        "  outout = []\n",
        "  out = []\n",
        "  if len(p1) == 0 or len(p2) == 0:\n",
        "    return []\n",
        "  for a in p1:\n",
        "    for b in p2:\n",
        "      if a[0]*b[0] != 0:\n",
        "        outout.append([(a[0]*b[0],a[1]+b[1])])\n",
        "\n",
        "  outoutout = outout[0]\n",
        "  for i in range(1,len(outout)):\n",
        "    outoutout = add_poly(outoutout,outout[i])\n",
        "  reverse_outoutout = []\n",
        "\n",
        "  for a in outoutout:\n",
        "    reverse_outoutout.append((a[1],a[0]))\n",
        "  reverse_outoutout.sort(reverse=True)\n",
        "\n",
        "  for a in reverse_outoutout:\n",
        "    out.append((a[1],a[0]))\n",
        "  return out\n",
        "\n",
        "for i in range(3):\n",
        " exec(input().strip())"
      ],
      "metadata": {
        "colab": {
          "base_uri": "https://localhost:8080/"
        },
        "id": "WSnMmDUcID8z",
        "outputId": "58c94418-633b-4cd0-bc4a-94a9c47437cf"
      },
      "execution_count": null,
      "outputs": [
        {
          "output_type": "stream",
          "name": "stdout",
          "text": [
            "p1 = [(3,6),(2,4),(1,1),(-1,0)]\n",
            "p2 = []\n",
            "print(mult_poly(p1, p2),mult_poly(p2,p1))\n",
            "[] []\n"
          ]
        }
      ]
    },
    {
      "cell_type": "markdown",
      "source": [
        "#10_TSD_★★★_Student Info"
      ],
      "metadata": {
        "id": "4j3q95Ir0IjT"
      }
    },
    {
      "cell_type": "code",
      "source": [
        "n = int(input())\n",
        "out = []\n",
        "info = []\n",
        "for i in range(n):\n",
        "  a,b,c,d = input().split()\n",
        "  info.append([a,b,c,d])\n",
        "\n",
        "target = input().split()\n",
        "if len(target) == 4:\n",
        "    for a in info:\n",
        "        if target[0] in a[1:] and target[1] in a[1:] and target[2] in a[1:] and target[3] in a[1:]:\n",
        "            if a not in out:\n",
        "                out.append(a)\n",
        "        else:\n",
        "            continue\n",
        "elif len(target) == 3:\n",
        "    for a in info:\n",
        "        if target[0] in a[1:] and target[1] in a[1:] and target[2] in a[1:]:\n",
        "            if a not in out:\n",
        "                out.append(a)\n",
        "elif len(target) == 2:\n",
        "    for a in info:\n",
        "        if target[0] in a[1:] and target[1] in a[1:]:\n",
        "            if a not in out:\n",
        "                out.append(a)\n",
        "elif len(target) == 1:\n",
        "    for a in info:\n",
        "        if target[0] in a[1:]:\n",
        "            if a not in out:\n",
        "                out.append(a)\n",
        "out.sort()\n",
        "\n",
        "if len(out) == 0:\n",
        "    print('Not Found')\n",
        "else:\n",
        "    for i in out:\n",
        "        print(' '.join(i))\n"
      ],
      "metadata": {
        "id": "OaERESs8tcJ1"
      },
      "execution_count": null,
      "outputs": []
    },
    {
      "cell_type": "markdown",
      "source": [
        "#10_TSD_★★★_Dept Selection"
      ],
      "metadata": {
        "id": "jrz6YEkMIrvE"
      }
    },
    {
      "cell_type": "code",
      "source": [
        "quota = {}\n",
        "st = []\n",
        "out = []\n",
        "n1 = int(input())\n",
        "for i in range(n1):\n",
        "  a,b = input().split()\n",
        "  b = int(b)\n",
        "  if a not in quota.keys():\n",
        "    quota[a] = b\n",
        "\n",
        "n2 = int(input())\n",
        "for i in range(n2):\n",
        "  b,a,c,d,e,f = input().split()\n",
        "  st.append([float(a),int(b),[c,d,e,f]])\n",
        "st.sort(reverse=True)\n",
        "\n",
        "\n",
        "for s in st:\n",
        "  for d in s[2]:\n",
        "    if quota[d] > 0:\n",
        "      out.append([s[1],d])\n",
        "      quota[d] -= 1\n",
        "      break\n",
        "out.sort()\n",
        "for s in out:\n",
        "  print(f'{s[0]} {s[1]}')\n"
      ],
      "metadata": {
        "id": "hZe_Frz26VQo"
      },
      "execution_count": null,
      "outputs": []
    },
    {
      "cell_type": "markdown",
      "source": [
        "#10_TSD_★★★_Sky Train"
      ],
      "metadata": {
        "id": "x1vA_0QlOAtL"
      }
    },
    {
      "cell_type": "code",
      "source": [
        "stations = []\n",
        "nearby = set()\n",
        "sec_nearby = set()\n",
        "visit = set()\n",
        "target = ''\n",
        "while True:\n",
        "    a = input().split()\n",
        "    if len(a) == 1:\n",
        "        target = a[0]\n",
        "        break\n",
        "    stations.append((a[0],a[1]))\n",
        "\n",
        "for st in stations:\n",
        "    if target in st:\n",
        "        if st[1-st.index(target)] not in nearby:\n",
        "            nearby.add(st[1-st.index(target)])\n",
        "\n",
        "for n in nearby:\n",
        "    for st in stations:\n",
        "        if n in st and target not in st:\n",
        "            if st[1-st.index(n)] not in nearby:\n",
        "                sec_nearby.add(st[1-st.index(n)])\n",
        "\n",
        "visit = nearby.union(sec_nearby)\n",
        "visit.add(target)\n",
        "visit_list = list(visit)\n",
        "visit_list.sort()\n",
        "\n",
        "for st in visit_list:\n",
        "    print(st)"
      ],
      "metadata": {
        "id": "JnlaAHsFJBx4"
      },
      "execution_count": null,
      "outputs": []
    }
  ]
}